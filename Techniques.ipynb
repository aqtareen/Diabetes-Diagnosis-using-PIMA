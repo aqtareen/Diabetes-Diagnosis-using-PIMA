{
  "cells": [
    {
      "cell_type": "markdown",
      "id": "pxj2VnqT4_iv",
      "metadata": {
        "id": "pxj2VnqT4_iv"
      },
      "source": [
        "# **KNN METHOD**"
      ]
    },
    {
      "cell_type": "markdown",
      "id": "sfcwYevLxfA1",
      "metadata": {
        "id": "sfcwYevLxfA1"
      },
      "source": [
        "**Imports**"
      ]
    },
    {
      "cell_type": "code",
      "execution_count": null,
      "id": "8ccff032",
      "metadata": {
        "id": "8ccff032"
      },
      "outputs": [],
      "source": [
        "import pandas as pd\n",
        "import numpy as np\n",
        "from sklearn.model_selection import train_test_split\n",
        "from sklearn.preprocessing import StandardScaler\n",
        "from sklearn.neighbors import KNeighborsClassifier\n",
        "from sklearn.metrics import confusion_matrix\n",
        "from sklearn.metrics import accuracy_score, classification_report\n",
        "from sklearn.metrics import mean_absolute_error, mean_squared_error\n",
        "from sklearn.metrics import matthews_corrcoef, roc_curve, precision_recall_curve, auc\n",
        "import matplotlib.pyplot as plt"
      ]
    },
    {
      "cell_type": "markdown",
      "id": "d1Kk_85RxnJp",
      "metadata": {
        "id": "d1Kk_85RxnJp"
      },
      "source": [
        "**Load the Dataset**"
      ]
    },
    {
      "cell_type": "code",
      "execution_count": null,
      "id": "6d429eae",
      "metadata": {
        "colab": {
          "base_uri": "https://localhost:8080/",
          "height": 206
        },
        "id": "6d429eae",
        "outputId": "39c4455b-c420-4844-c56c-540ced45a93c"
      },
      "outputs": [
        {
          "data": {
            "application/vnd.google.colaboratory.intrinsic+json": {
              "summary": "{\n  \"name\": \"data\",\n  \"rows\": 768,\n  \"fields\": [\n    {\n      \"column\": \"Pregnancies\",\n      \"properties\": {\n        \"dtype\": \"number\",\n        \"std\": 3,\n        \"min\": 0,\n        \"max\": 17,\n        \"num_unique_values\": 17,\n        \"samples\": [\n          6,\n          1,\n          3\n        ],\n        \"semantic_type\": \"\",\n        \"description\": \"\"\n      }\n    },\n    {\n      \"column\": \"Glucose\",\n      \"properties\": {\n        \"dtype\": \"number\",\n        \"std\": 31,\n        \"min\": 0,\n        \"max\": 199,\n        \"num_unique_values\": 136,\n        \"samples\": [\n          151,\n          101,\n          112\n        ],\n        \"semantic_type\": \"\",\n        \"description\": \"\"\n      }\n    },\n    {\n      \"column\": \"BloodPressure\",\n      \"properties\": {\n        \"dtype\": \"number\",\n        \"std\": 19,\n        \"min\": 0,\n        \"max\": 122,\n        \"num_unique_values\": 47,\n        \"samples\": [\n          86,\n          46,\n          85\n        ],\n        \"semantic_type\": \"\",\n        \"description\": \"\"\n      }\n    },\n    {\n      \"column\": \"SkinThickness\",\n      \"properties\": {\n        \"dtype\": \"number\",\n        \"std\": 15,\n        \"min\": 0,\n        \"max\": 99,\n        \"num_unique_values\": 51,\n        \"samples\": [\n          7,\n          12,\n          48\n        ],\n        \"semantic_type\": \"\",\n        \"description\": \"\"\n      }\n    },\n    {\n      \"column\": \"Insulin\",\n      \"properties\": {\n        \"dtype\": \"number\",\n        \"std\": 115,\n        \"min\": 0,\n        \"max\": 846,\n        \"num_unique_values\": 186,\n        \"samples\": [\n          52,\n          41,\n          183\n        ],\n        \"semantic_type\": \"\",\n        \"description\": \"\"\n      }\n    },\n    {\n      \"column\": \"BMI\",\n      \"properties\": {\n        \"dtype\": \"number\",\n        \"std\": 7.8841603203754405,\n        \"min\": 0.0,\n        \"max\": 67.1,\n        \"num_unique_values\": 248,\n        \"samples\": [\n          19.9,\n          31.0,\n          38.1\n        ],\n        \"semantic_type\": \"\",\n        \"description\": \"\"\n      }\n    },\n    {\n      \"column\": \"DiabetesPedigreeFunction\",\n      \"properties\": {\n        \"dtype\": \"number\",\n        \"std\": 0.33132859501277484,\n        \"min\": 0.078,\n        \"max\": 2.42,\n        \"num_unique_values\": 517,\n        \"samples\": [\n          1.731,\n          0.426,\n          0.138\n        ],\n        \"semantic_type\": \"\",\n        \"description\": \"\"\n      }\n    },\n    {\n      \"column\": \"Age\",\n      \"properties\": {\n        \"dtype\": \"number\",\n        \"std\": 11,\n        \"min\": 21,\n        \"max\": 81,\n        \"num_unique_values\": 52,\n        \"samples\": [\n          60,\n          47,\n          72\n        ],\n        \"semantic_type\": \"\",\n        \"description\": \"\"\n      }\n    },\n    {\n      \"column\": \"Outcome\",\n      \"properties\": {\n        \"dtype\": \"number\",\n        \"std\": 0,\n        \"min\": 0,\n        \"max\": 1,\n        \"num_unique_values\": 2,\n        \"samples\": [\n          0,\n          1\n        ],\n        \"semantic_type\": \"\",\n        \"description\": \"\"\n      }\n    }\n  ]\n}",
              "type": "dataframe",
              "variable_name": "data"
            },
            "text/html": [
              "\n",
              "  <div id=\"df-a8b856ad-f304-4a84-a014-2933a28d459d\" class=\"colab-df-container\">\n",
              "    <div>\n",
              "<style scoped>\n",
              "    .dataframe tbody tr th:only-of-type {\n",
              "        vertical-align: middle;\n",
              "    }\n",
              "\n",
              "    .dataframe tbody tr th {\n",
              "        vertical-align: top;\n",
              "    }\n",
              "\n",
              "    .dataframe thead th {\n",
              "        text-align: right;\n",
              "    }\n",
              "</style>\n",
              "<table border=\"1\" class=\"dataframe\">\n",
              "  <thead>\n",
              "    <tr style=\"text-align: right;\">\n",
              "      <th></th>\n",
              "      <th>Pregnancies</th>\n",
              "      <th>Glucose</th>\n",
              "      <th>BloodPressure</th>\n",
              "      <th>SkinThickness</th>\n",
              "      <th>Insulin</th>\n",
              "      <th>BMI</th>\n",
              "      <th>DiabetesPedigreeFunction</th>\n",
              "      <th>Age</th>\n",
              "      <th>Outcome</th>\n",
              "    </tr>\n",
              "  </thead>\n",
              "  <tbody>\n",
              "    <tr>\n",
              "      <th>0</th>\n",
              "      <td>6</td>\n",
              "      <td>148</td>\n",
              "      <td>72</td>\n",
              "      <td>35</td>\n",
              "      <td>0</td>\n",
              "      <td>33.6</td>\n",
              "      <td>0.627</td>\n",
              "      <td>50</td>\n",
              "      <td>1</td>\n",
              "    </tr>\n",
              "    <tr>\n",
              "      <th>1</th>\n",
              "      <td>1</td>\n",
              "      <td>85</td>\n",
              "      <td>66</td>\n",
              "      <td>29</td>\n",
              "      <td>0</td>\n",
              "      <td>26.6</td>\n",
              "      <td>0.351</td>\n",
              "      <td>31</td>\n",
              "      <td>0</td>\n",
              "    </tr>\n",
              "    <tr>\n",
              "      <th>2</th>\n",
              "      <td>8</td>\n",
              "      <td>183</td>\n",
              "      <td>64</td>\n",
              "      <td>0</td>\n",
              "      <td>0</td>\n",
              "      <td>23.3</td>\n",
              "      <td>0.672</td>\n",
              "      <td>32</td>\n",
              "      <td>1</td>\n",
              "    </tr>\n",
              "    <tr>\n",
              "      <th>3</th>\n",
              "      <td>1</td>\n",
              "      <td>89</td>\n",
              "      <td>66</td>\n",
              "      <td>23</td>\n",
              "      <td>94</td>\n",
              "      <td>28.1</td>\n",
              "      <td>0.167</td>\n",
              "      <td>21</td>\n",
              "      <td>0</td>\n",
              "    </tr>\n",
              "    <tr>\n",
              "      <th>4</th>\n",
              "      <td>0</td>\n",
              "      <td>137</td>\n",
              "      <td>40</td>\n",
              "      <td>35</td>\n",
              "      <td>168</td>\n",
              "      <td>43.1</td>\n",
              "      <td>2.288</td>\n",
              "      <td>33</td>\n",
              "      <td>1</td>\n",
              "    </tr>\n",
              "  </tbody>\n",
              "</table>\n",
              "</div>\n",
              "    <div class=\"colab-df-buttons\">\n",
              "\n",
              "  <div class=\"colab-df-container\">\n",
              "    <button class=\"colab-df-convert\" onclick=\"convertToInteractive('df-a8b856ad-f304-4a84-a014-2933a28d459d')\"\n",
              "            title=\"Convert this dataframe to an interactive table.\"\n",
              "            style=\"display:none;\">\n",
              "\n",
              "  <svg xmlns=\"http://www.w3.org/2000/svg\" height=\"24px\" viewBox=\"0 -960 960 960\">\n",
              "    <path d=\"M120-120v-720h720v720H120Zm60-500h600v-160H180v160Zm220 220h160v-160H400v160Zm0 220h160v-160H400v160ZM180-400h160v-160H180v160Zm440 0h160v-160H620v160ZM180-180h160v-160H180v160Zm440 0h160v-160H620v160Z\"/>\n",
              "  </svg>\n",
              "    </button>\n",
              "\n",
              "  <style>\n",
              "    .colab-df-container {\n",
              "      display:flex;\n",
              "      gap: 12px;\n",
              "    }\n",
              "\n",
              "    .colab-df-convert {\n",
              "      background-color: #E8F0FE;\n",
              "      border: none;\n",
              "      border-radius: 50%;\n",
              "      cursor: pointer;\n",
              "      display: none;\n",
              "      fill: #1967D2;\n",
              "      height: 32px;\n",
              "      padding: 0 0 0 0;\n",
              "      width: 32px;\n",
              "    }\n",
              "\n",
              "    .colab-df-convert:hover {\n",
              "      background-color: #E2EBFA;\n",
              "      box-shadow: 0px 1px 2px rgba(60, 64, 67, 0.3), 0px 1px 3px 1px rgba(60, 64, 67, 0.15);\n",
              "      fill: #174EA6;\n",
              "    }\n",
              "\n",
              "    .colab-df-buttons div {\n",
              "      margin-bottom: 4px;\n",
              "    }\n",
              "\n",
              "    [theme=dark] .colab-df-convert {\n",
              "      background-color: #3B4455;\n",
              "      fill: #D2E3FC;\n",
              "    }\n",
              "\n",
              "    [theme=dark] .colab-df-convert:hover {\n",
              "      background-color: #434B5C;\n",
              "      box-shadow: 0px 1px 3px 1px rgba(0, 0, 0, 0.15);\n",
              "      filter: drop-shadow(0px 1px 2px rgba(0, 0, 0, 0.3));\n",
              "      fill: #FFFFFF;\n",
              "    }\n",
              "  </style>\n",
              "\n",
              "    <script>\n",
              "      const buttonEl =\n",
              "        document.querySelector('#df-a8b856ad-f304-4a84-a014-2933a28d459d button.colab-df-convert');\n",
              "      buttonEl.style.display =\n",
              "        google.colab.kernel.accessAllowed ? 'block' : 'none';\n",
              "\n",
              "      async function convertToInteractive(key) {\n",
              "        const element = document.querySelector('#df-a8b856ad-f304-4a84-a014-2933a28d459d');\n",
              "        const dataTable =\n",
              "          await google.colab.kernel.invokeFunction('convertToInteractive',\n",
              "                                                    [key], {});\n",
              "        if (!dataTable) return;\n",
              "\n",
              "        const docLinkHtml = 'Like what you see? Visit the ' +\n",
              "          '<a target=\"_blank\" href=https://colab.research.google.com/notebooks/data_table.ipynb>data table notebook</a>'\n",
              "          + ' to learn more about interactive tables.';\n",
              "        element.innerHTML = '';\n",
              "        dataTable['output_type'] = 'display_data';\n",
              "        await google.colab.output.renderOutput(dataTable, element);\n",
              "        const docLink = document.createElement('div');\n",
              "        docLink.innerHTML = docLinkHtml;\n",
              "        element.appendChild(docLink);\n",
              "      }\n",
              "    </script>\n",
              "  </div>\n",
              "\n",
              "\n",
              "    <div id=\"df-5a68b7d5-ca4e-4e8d-851b-6e23d56e5cdb\">\n",
              "      <button class=\"colab-df-quickchart\" onclick=\"quickchart('df-5a68b7d5-ca4e-4e8d-851b-6e23d56e5cdb')\"\n",
              "                title=\"Suggest charts\"\n",
              "                style=\"display:none;\">\n",
              "\n",
              "<svg xmlns=\"http://www.w3.org/2000/svg\" height=\"24px\"viewBox=\"0 0 24 24\"\n",
              "     width=\"24px\">\n",
              "    <g>\n",
              "        <path d=\"M19 3H5c-1.1 0-2 .9-2 2v14c0 1.1.9 2 2 2h14c1.1 0 2-.9 2-2V5c0-1.1-.9-2-2-2zM9 17H7v-7h2v7zm4 0h-2V7h2v10zm4 0h-2v-4h2v4z\"/>\n",
              "    </g>\n",
              "</svg>\n",
              "      </button>\n",
              "\n",
              "<style>\n",
              "  .colab-df-quickchart {\n",
              "      --bg-color: #E8F0FE;\n",
              "      --fill-color: #1967D2;\n",
              "      --hover-bg-color: #E2EBFA;\n",
              "      --hover-fill-color: #174EA6;\n",
              "      --disabled-fill-color: #AAA;\n",
              "      --disabled-bg-color: #DDD;\n",
              "  }\n",
              "\n",
              "  [theme=dark] .colab-df-quickchart {\n",
              "      --bg-color: #3B4455;\n",
              "      --fill-color: #D2E3FC;\n",
              "      --hover-bg-color: #434B5C;\n",
              "      --hover-fill-color: #FFFFFF;\n",
              "      --disabled-bg-color: #3B4455;\n",
              "      --disabled-fill-color: #666;\n",
              "  }\n",
              "\n",
              "  .colab-df-quickchart {\n",
              "    background-color: var(--bg-color);\n",
              "    border: none;\n",
              "    border-radius: 50%;\n",
              "    cursor: pointer;\n",
              "    display: none;\n",
              "    fill: var(--fill-color);\n",
              "    height: 32px;\n",
              "    padding: 0;\n",
              "    width: 32px;\n",
              "  }\n",
              "\n",
              "  .colab-df-quickchart:hover {\n",
              "    background-color: var(--hover-bg-color);\n",
              "    box-shadow: 0 1px 2px rgba(60, 64, 67, 0.3), 0 1px 3px 1px rgba(60, 64, 67, 0.15);\n",
              "    fill: var(--button-hover-fill-color);\n",
              "  }\n",
              "\n",
              "  .colab-df-quickchart-complete:disabled,\n",
              "  .colab-df-quickchart-complete:disabled:hover {\n",
              "    background-color: var(--disabled-bg-color);\n",
              "    fill: var(--disabled-fill-color);\n",
              "    box-shadow: none;\n",
              "  }\n",
              "\n",
              "  .colab-df-spinner {\n",
              "    border: 2px solid var(--fill-color);\n",
              "    border-color: transparent;\n",
              "    border-bottom-color: var(--fill-color);\n",
              "    animation:\n",
              "      spin 1s steps(1) infinite;\n",
              "  }\n",
              "\n",
              "  @keyframes spin {\n",
              "    0% {\n",
              "      border-color: transparent;\n",
              "      border-bottom-color: var(--fill-color);\n",
              "      border-left-color: var(--fill-color);\n",
              "    }\n",
              "    20% {\n",
              "      border-color: transparent;\n",
              "      border-left-color: var(--fill-color);\n",
              "      border-top-color: var(--fill-color);\n",
              "    }\n",
              "    30% {\n",
              "      border-color: transparent;\n",
              "      border-left-color: var(--fill-color);\n",
              "      border-top-color: var(--fill-color);\n",
              "      border-right-color: var(--fill-color);\n",
              "    }\n",
              "    40% {\n",
              "      border-color: transparent;\n",
              "      border-right-color: var(--fill-color);\n",
              "      border-top-color: var(--fill-color);\n",
              "    }\n",
              "    60% {\n",
              "      border-color: transparent;\n",
              "      border-right-color: var(--fill-color);\n",
              "    }\n",
              "    80% {\n",
              "      border-color: transparent;\n",
              "      border-right-color: var(--fill-color);\n",
              "      border-bottom-color: var(--fill-color);\n",
              "    }\n",
              "    90% {\n",
              "      border-color: transparent;\n",
              "      border-bottom-color: var(--fill-color);\n",
              "    }\n",
              "  }\n",
              "</style>\n",
              "\n",
              "      <script>\n",
              "        async function quickchart(key) {\n",
              "          const quickchartButtonEl =\n",
              "            document.querySelector('#' + key + ' button');\n",
              "          quickchartButtonEl.disabled = true;  // To prevent multiple clicks.\n",
              "          quickchartButtonEl.classList.add('colab-df-spinner');\n",
              "          try {\n",
              "            const charts = await google.colab.kernel.invokeFunction(\n",
              "                'suggestCharts', [key], {});\n",
              "          } catch (error) {\n",
              "            console.error('Error during call to suggestCharts:', error);\n",
              "          }\n",
              "          quickchartButtonEl.classList.remove('colab-df-spinner');\n",
              "          quickchartButtonEl.classList.add('colab-df-quickchart-complete');\n",
              "        }\n",
              "        (() => {\n",
              "          let quickchartButtonEl =\n",
              "            document.querySelector('#df-5a68b7d5-ca4e-4e8d-851b-6e23d56e5cdb button');\n",
              "          quickchartButtonEl.style.display =\n",
              "            google.colab.kernel.accessAllowed ? 'block' : 'none';\n",
              "        })();\n",
              "      </script>\n",
              "    </div>\n",
              "\n",
              "    </div>\n",
              "  </div>\n"
            ],
            "text/plain": [
              "   Pregnancies  Glucose  BloodPressure  SkinThickness  Insulin   BMI  \\\n",
              "0            6      148             72             35        0  33.6   \n",
              "1            1       85             66             29        0  26.6   \n",
              "2            8      183             64              0        0  23.3   \n",
              "3            1       89             66             23       94  28.1   \n",
              "4            0      137             40             35      168  43.1   \n",
              "\n",
              "   DiabetesPedigreeFunction  Age  Outcome  \n",
              "0                     0.627   50        1  \n",
              "1                     0.351   31        0  \n",
              "2                     0.672   32        1  \n",
              "3                     0.167   21        0  \n",
              "4                     2.288   33        1  "
            ]
          },
          "execution_count": 2,
          "metadata": {},
          "output_type": "execute_result"
        }
      ],
      "source": [
        "\n",
        "data = pd.read_csv('diabetes.csv')\n",
        "data.head()"
      ]
    },
    {
      "cell_type": "markdown",
      "id": "XvwGlUKi31Kd",
      "metadata": {
        "id": "XvwGlUKi31Kd"
      },
      "source": [
        "**Prepare Dataset**"
      ]
    },
    {
      "cell_type": "code",
      "execution_count": null,
      "id": "VS6LS0kh381v",
      "metadata": {
        "id": "VS6LS0kh381v"
      },
      "outputs": [],
      "source": [
        "# Separate features and target variable\n",
        "X = data.iloc[:, :-1]\n",
        "y = data.iloc[:, -1]\n",
        "\n",
        "# Split the dataset\n",
        "X_train, X_test, y_train, y_test = train_test_split(X, y, test_size=0.3, random_state=30)\n",
        "\n",
        "# Scale features\n",
        "scaler = StandardScaler()\n",
        "X_train = scaler.fit_transform(X_train)\n",
        "X_test = scaler.transform(X_test)"
      ]
    },
    {
      "cell_type": "markdown",
      "id": "Ma5VBsXx4Ani",
      "metadata": {
        "id": "Ma5VBsXx4Ani"
      },
      "source": [
        "**Train KNN Classifier**"
      ]
    },
    {
      "cell_type": "code",
      "execution_count": null,
      "id": "cOp5HR3o4I3A",
      "metadata": {
        "colab": {
          "base_uri": "https://localhost:8080/",
          "height": 80
        },
        "id": "cOp5HR3o4I3A",
        "outputId": "146818d6-f412-40c2-998b-597a84a35db5"
      },
      "outputs": [
        {
          "data": {
            "text/html": [
              "<style>#sk-container-id-1 {\n",
              "  /* Definition of color scheme common for light and dark mode */\n",
              "  --sklearn-color-text: #000;\n",
              "  --sklearn-color-text-muted: #666;\n",
              "  --sklearn-color-line: gray;\n",
              "  /* Definition of color scheme for unfitted estimators */\n",
              "  --sklearn-color-unfitted-level-0: #fff5e6;\n",
              "  --sklearn-color-unfitted-level-1: #f6e4d2;\n",
              "  --sklearn-color-unfitted-level-2: #ffe0b3;\n",
              "  --sklearn-color-unfitted-level-3: chocolate;\n",
              "  /* Definition of color scheme for fitted estimators */\n",
              "  --sklearn-color-fitted-level-0: #f0f8ff;\n",
              "  --sklearn-color-fitted-level-1: #d4ebff;\n",
              "  --sklearn-color-fitted-level-2: #b3dbfd;\n",
              "  --sklearn-color-fitted-level-3: cornflowerblue;\n",
              "\n",
              "  /* Specific color for light theme */\n",
              "  --sklearn-color-text-on-default-background: var(--sg-text-color, var(--theme-code-foreground, var(--jp-content-font-color1, black)));\n",
              "  --sklearn-color-background: var(--sg-background-color, var(--theme-background, var(--jp-layout-color0, white)));\n",
              "  --sklearn-color-border-box: var(--sg-text-color, var(--theme-code-foreground, var(--jp-content-font-color1, black)));\n",
              "  --sklearn-color-icon: #696969;\n",
              "\n",
              "  @media (prefers-color-scheme: dark) {\n",
              "    /* Redefinition of color scheme for dark theme */\n",
              "    --sklearn-color-text-on-default-background: var(--sg-text-color, var(--theme-code-foreground, var(--jp-content-font-color1, white)));\n",
              "    --sklearn-color-background: var(--sg-background-color, var(--theme-background, var(--jp-layout-color0, #111)));\n",
              "    --sklearn-color-border-box: var(--sg-text-color, var(--theme-code-foreground, var(--jp-content-font-color1, white)));\n",
              "    --sklearn-color-icon: #878787;\n",
              "  }\n",
              "}\n",
              "\n",
              "#sk-container-id-1 {\n",
              "  color: var(--sklearn-color-text);\n",
              "}\n",
              "\n",
              "#sk-container-id-1 pre {\n",
              "  padding: 0;\n",
              "}\n",
              "\n",
              "#sk-container-id-1 input.sk-hidden--visually {\n",
              "  border: 0;\n",
              "  clip: rect(1px 1px 1px 1px);\n",
              "  clip: rect(1px, 1px, 1px, 1px);\n",
              "  height: 1px;\n",
              "  margin: -1px;\n",
              "  overflow: hidden;\n",
              "  padding: 0;\n",
              "  position: absolute;\n",
              "  width: 1px;\n",
              "}\n",
              "\n",
              "#sk-container-id-1 div.sk-dashed-wrapped {\n",
              "  border: 1px dashed var(--sklearn-color-line);\n",
              "  margin: 0 0.4em 0.5em 0.4em;\n",
              "  box-sizing: border-box;\n",
              "  padding-bottom: 0.4em;\n",
              "  background-color: var(--sklearn-color-background);\n",
              "}\n",
              "\n",
              "#sk-container-id-1 div.sk-container {\n",
              "  /* jupyter's `normalize.less` sets `[hidden] { display: none; }`\n",
              "     but bootstrap.min.css set `[hidden] { display: none !important; }`\n",
              "     so we also need the `!important` here to be able to override the\n",
              "     default hidden behavior on the sphinx rendered scikit-learn.org.\n",
              "     See: https://github.com/scikit-learn/scikit-learn/issues/21755 */\n",
              "  display: inline-block !important;\n",
              "  position: relative;\n",
              "}\n",
              "\n",
              "#sk-container-id-1 div.sk-text-repr-fallback {\n",
              "  display: none;\n",
              "}\n",
              "\n",
              "div.sk-parallel-item,\n",
              "div.sk-serial,\n",
              "div.sk-item {\n",
              "  /* draw centered vertical line to link estimators */\n",
              "  background-image: linear-gradient(var(--sklearn-color-text-on-default-background), var(--sklearn-color-text-on-default-background));\n",
              "  background-size: 2px 100%;\n",
              "  background-repeat: no-repeat;\n",
              "  background-position: center center;\n",
              "}\n",
              "\n",
              "/* Parallel-specific style estimator block */\n",
              "\n",
              "#sk-container-id-1 div.sk-parallel-item::after {\n",
              "  content: \"\";\n",
              "  width: 100%;\n",
              "  border-bottom: 2px solid var(--sklearn-color-text-on-default-background);\n",
              "  flex-grow: 1;\n",
              "}\n",
              "\n",
              "#sk-container-id-1 div.sk-parallel {\n",
              "  display: flex;\n",
              "  align-items: stretch;\n",
              "  justify-content: center;\n",
              "  background-color: var(--sklearn-color-background);\n",
              "  position: relative;\n",
              "}\n",
              "\n",
              "#sk-container-id-1 div.sk-parallel-item {\n",
              "  display: flex;\n",
              "  flex-direction: column;\n",
              "}\n",
              "\n",
              "#sk-container-id-1 div.sk-parallel-item:first-child::after {\n",
              "  align-self: flex-end;\n",
              "  width: 50%;\n",
              "}\n",
              "\n",
              "#sk-container-id-1 div.sk-parallel-item:last-child::after {\n",
              "  align-self: flex-start;\n",
              "  width: 50%;\n",
              "}\n",
              "\n",
              "#sk-container-id-1 div.sk-parallel-item:only-child::after {\n",
              "  width: 0;\n",
              "}\n",
              "\n",
              "/* Serial-specific style estimator block */\n",
              "\n",
              "#sk-container-id-1 div.sk-serial {\n",
              "  display: flex;\n",
              "  flex-direction: column;\n",
              "  align-items: center;\n",
              "  background-color: var(--sklearn-color-background);\n",
              "  padding-right: 1em;\n",
              "  padding-left: 1em;\n",
              "}\n",
              "\n",
              "\n",
              "/* Toggleable style: style used for estimator/Pipeline/ColumnTransformer box that is\n",
              "clickable and can be expanded/collapsed.\n",
              "- Pipeline and ColumnTransformer use this feature and define the default style\n",
              "- Estimators will overwrite some part of the style using the `sk-estimator` class\n",
              "*/\n",
              "\n",
              "/* Pipeline and ColumnTransformer style (default) */\n",
              "\n",
              "#sk-container-id-1 div.sk-toggleable {\n",
              "  /* Default theme specific background. It is overwritten whether we have a\n",
              "  specific estimator or a Pipeline/ColumnTransformer */\n",
              "  background-color: var(--sklearn-color-background);\n",
              "}\n",
              "\n",
              "/* Toggleable label */\n",
              "#sk-container-id-1 label.sk-toggleable__label {\n",
              "  cursor: pointer;\n",
              "  display: flex;\n",
              "  width: 100%;\n",
              "  margin-bottom: 0;\n",
              "  padding: 0.5em;\n",
              "  box-sizing: border-box;\n",
              "  text-align: center;\n",
              "  align-items: start;\n",
              "  justify-content: space-between;\n",
              "  gap: 0.5em;\n",
              "}\n",
              "\n",
              "#sk-container-id-1 label.sk-toggleable__label .caption {\n",
              "  font-size: 0.6rem;\n",
              "  font-weight: lighter;\n",
              "  color: var(--sklearn-color-text-muted);\n",
              "}\n",
              "\n",
              "#sk-container-id-1 label.sk-toggleable__label-arrow:before {\n",
              "  /* Arrow on the left of the label */\n",
              "  content: \"▸\";\n",
              "  float: left;\n",
              "  margin-right: 0.25em;\n",
              "  color: var(--sklearn-color-icon);\n",
              "}\n",
              "\n",
              "#sk-container-id-1 label.sk-toggleable__label-arrow:hover:before {\n",
              "  color: var(--sklearn-color-text);\n",
              "}\n",
              "\n",
              "/* Toggleable content - dropdown */\n",
              "\n",
              "#sk-container-id-1 div.sk-toggleable__content {\n",
              "  max-height: 0;\n",
              "  max-width: 0;\n",
              "  overflow: hidden;\n",
              "  text-align: left;\n",
              "  /* unfitted */\n",
              "  background-color: var(--sklearn-color-unfitted-level-0);\n",
              "}\n",
              "\n",
              "#sk-container-id-1 div.sk-toggleable__content.fitted {\n",
              "  /* fitted */\n",
              "  background-color: var(--sklearn-color-fitted-level-0);\n",
              "}\n",
              "\n",
              "#sk-container-id-1 div.sk-toggleable__content pre {\n",
              "  margin: 0.2em;\n",
              "  border-radius: 0.25em;\n",
              "  color: var(--sklearn-color-text);\n",
              "  /* unfitted */\n",
              "  background-color: var(--sklearn-color-unfitted-level-0);\n",
              "}\n",
              "\n",
              "#sk-container-id-1 div.sk-toggleable__content.fitted pre {\n",
              "  /* unfitted */\n",
              "  background-color: var(--sklearn-color-fitted-level-0);\n",
              "}\n",
              "\n",
              "#sk-container-id-1 input.sk-toggleable__control:checked~div.sk-toggleable__content {\n",
              "  /* Expand drop-down */\n",
              "  max-height: 200px;\n",
              "  max-width: 100%;\n",
              "  overflow: auto;\n",
              "}\n",
              "\n",
              "#sk-container-id-1 input.sk-toggleable__control:checked~label.sk-toggleable__label-arrow:before {\n",
              "  content: \"▾\";\n",
              "}\n",
              "\n",
              "/* Pipeline/ColumnTransformer-specific style */\n",
              "\n",
              "#sk-container-id-1 div.sk-label input.sk-toggleable__control:checked~label.sk-toggleable__label {\n",
              "  color: var(--sklearn-color-text);\n",
              "  background-color: var(--sklearn-color-unfitted-level-2);\n",
              "}\n",
              "\n",
              "#sk-container-id-1 div.sk-label.fitted input.sk-toggleable__control:checked~label.sk-toggleable__label {\n",
              "  background-color: var(--sklearn-color-fitted-level-2);\n",
              "}\n",
              "\n",
              "/* Estimator-specific style */\n",
              "\n",
              "/* Colorize estimator box */\n",
              "#sk-container-id-1 div.sk-estimator input.sk-toggleable__control:checked~label.sk-toggleable__label {\n",
              "  /* unfitted */\n",
              "  background-color: var(--sklearn-color-unfitted-level-2);\n",
              "}\n",
              "\n",
              "#sk-container-id-1 div.sk-estimator.fitted input.sk-toggleable__control:checked~label.sk-toggleable__label {\n",
              "  /* fitted */\n",
              "  background-color: var(--sklearn-color-fitted-level-2);\n",
              "}\n",
              "\n",
              "#sk-container-id-1 div.sk-label label.sk-toggleable__label,\n",
              "#sk-container-id-1 div.sk-label label {\n",
              "  /* The background is the default theme color */\n",
              "  color: var(--sklearn-color-text-on-default-background);\n",
              "}\n",
              "\n",
              "/* On hover, darken the color of the background */\n",
              "#sk-container-id-1 div.sk-label:hover label.sk-toggleable__label {\n",
              "  color: var(--sklearn-color-text);\n",
              "  background-color: var(--sklearn-color-unfitted-level-2);\n",
              "}\n",
              "\n",
              "/* Label box, darken color on hover, fitted */\n",
              "#sk-container-id-1 div.sk-label.fitted:hover label.sk-toggleable__label.fitted {\n",
              "  color: var(--sklearn-color-text);\n",
              "  background-color: var(--sklearn-color-fitted-level-2);\n",
              "}\n",
              "\n",
              "/* Estimator label */\n",
              "\n",
              "#sk-container-id-1 div.sk-label label {\n",
              "  font-family: monospace;\n",
              "  font-weight: bold;\n",
              "  display: inline-block;\n",
              "  line-height: 1.2em;\n",
              "}\n",
              "\n",
              "#sk-container-id-1 div.sk-label-container {\n",
              "  text-align: center;\n",
              "}\n",
              "\n",
              "/* Estimator-specific */\n",
              "#sk-container-id-1 div.sk-estimator {\n",
              "  font-family: monospace;\n",
              "  border: 1px dotted var(--sklearn-color-border-box);\n",
              "  border-radius: 0.25em;\n",
              "  box-sizing: border-box;\n",
              "  margin-bottom: 0.5em;\n",
              "  /* unfitted */\n",
              "  background-color: var(--sklearn-color-unfitted-level-0);\n",
              "}\n",
              "\n",
              "#sk-container-id-1 div.sk-estimator.fitted {\n",
              "  /* fitted */\n",
              "  background-color: var(--sklearn-color-fitted-level-0);\n",
              "}\n",
              "\n",
              "/* on hover */\n",
              "#sk-container-id-1 div.sk-estimator:hover {\n",
              "  /* unfitted */\n",
              "  background-color: var(--sklearn-color-unfitted-level-2);\n",
              "}\n",
              "\n",
              "#sk-container-id-1 div.sk-estimator.fitted:hover {\n",
              "  /* fitted */\n",
              "  background-color: var(--sklearn-color-fitted-level-2);\n",
              "}\n",
              "\n",
              "/* Specification for estimator info (e.g. \"i\" and \"?\") */\n",
              "\n",
              "/* Common style for \"i\" and \"?\" */\n",
              "\n",
              ".sk-estimator-doc-link,\n",
              "a:link.sk-estimator-doc-link,\n",
              "a:visited.sk-estimator-doc-link {\n",
              "  float: right;\n",
              "  font-size: smaller;\n",
              "  line-height: 1em;\n",
              "  font-family: monospace;\n",
              "  background-color: var(--sklearn-color-background);\n",
              "  border-radius: 1em;\n",
              "  height: 1em;\n",
              "  width: 1em;\n",
              "  text-decoration: none !important;\n",
              "  margin-left: 0.5em;\n",
              "  text-align: center;\n",
              "  /* unfitted */\n",
              "  border: var(--sklearn-color-unfitted-level-1) 1pt solid;\n",
              "  color: var(--sklearn-color-unfitted-level-1);\n",
              "}\n",
              "\n",
              ".sk-estimator-doc-link.fitted,\n",
              "a:link.sk-estimator-doc-link.fitted,\n",
              "a:visited.sk-estimator-doc-link.fitted {\n",
              "  /* fitted */\n",
              "  border: var(--sklearn-color-fitted-level-1) 1pt solid;\n",
              "  color: var(--sklearn-color-fitted-level-1);\n",
              "}\n",
              "\n",
              "/* On hover */\n",
              "div.sk-estimator:hover .sk-estimator-doc-link:hover,\n",
              ".sk-estimator-doc-link:hover,\n",
              "div.sk-label-container:hover .sk-estimator-doc-link:hover,\n",
              ".sk-estimator-doc-link:hover {\n",
              "  /* unfitted */\n",
              "  background-color: var(--sklearn-color-unfitted-level-3);\n",
              "  color: var(--sklearn-color-background);\n",
              "  text-decoration: none;\n",
              "}\n",
              "\n",
              "div.sk-estimator.fitted:hover .sk-estimator-doc-link.fitted:hover,\n",
              ".sk-estimator-doc-link.fitted:hover,\n",
              "div.sk-label-container:hover .sk-estimator-doc-link.fitted:hover,\n",
              ".sk-estimator-doc-link.fitted:hover {\n",
              "  /* fitted */\n",
              "  background-color: var(--sklearn-color-fitted-level-3);\n",
              "  color: var(--sklearn-color-background);\n",
              "  text-decoration: none;\n",
              "}\n",
              "\n",
              "/* Span, style for the box shown on hovering the info icon */\n",
              ".sk-estimator-doc-link span {\n",
              "  display: none;\n",
              "  z-index: 9999;\n",
              "  position: relative;\n",
              "  font-weight: normal;\n",
              "  right: .2ex;\n",
              "  padding: .5ex;\n",
              "  margin: .5ex;\n",
              "  width: min-content;\n",
              "  min-width: 20ex;\n",
              "  max-width: 50ex;\n",
              "  color: var(--sklearn-color-text);\n",
              "  box-shadow: 2pt 2pt 4pt #999;\n",
              "  /* unfitted */\n",
              "  background: var(--sklearn-color-unfitted-level-0);\n",
              "  border: .5pt solid var(--sklearn-color-unfitted-level-3);\n",
              "}\n",
              "\n",
              ".sk-estimator-doc-link.fitted span {\n",
              "  /* fitted */\n",
              "  background: var(--sklearn-color-fitted-level-0);\n",
              "  border: var(--sklearn-color-fitted-level-3);\n",
              "}\n",
              "\n",
              ".sk-estimator-doc-link:hover span {\n",
              "  display: block;\n",
              "}\n",
              "\n",
              "/* \"?\"-specific style due to the `<a>` HTML tag */\n",
              "\n",
              "#sk-container-id-1 a.estimator_doc_link {\n",
              "  float: right;\n",
              "  font-size: 1rem;\n",
              "  line-height: 1em;\n",
              "  font-family: monospace;\n",
              "  background-color: var(--sklearn-color-background);\n",
              "  border-radius: 1rem;\n",
              "  height: 1rem;\n",
              "  width: 1rem;\n",
              "  text-decoration: none;\n",
              "  /* unfitted */\n",
              "  color: var(--sklearn-color-unfitted-level-1);\n",
              "  border: var(--sklearn-color-unfitted-level-1) 1pt solid;\n",
              "}\n",
              "\n",
              "#sk-container-id-1 a.estimator_doc_link.fitted {\n",
              "  /* fitted */\n",
              "  border: var(--sklearn-color-fitted-level-1) 1pt solid;\n",
              "  color: var(--sklearn-color-fitted-level-1);\n",
              "}\n",
              "\n",
              "/* On hover */\n",
              "#sk-container-id-1 a.estimator_doc_link:hover {\n",
              "  /* unfitted */\n",
              "  background-color: var(--sklearn-color-unfitted-level-3);\n",
              "  color: var(--sklearn-color-background);\n",
              "  text-decoration: none;\n",
              "}\n",
              "\n",
              "#sk-container-id-1 a.estimator_doc_link.fitted:hover {\n",
              "  /* fitted */\n",
              "  background-color: var(--sklearn-color-fitted-level-3);\n",
              "}\n",
              "</style><div id=\"sk-container-id-1\" class=\"sk-top-container\"><div class=\"sk-text-repr-fallback\"><pre>KNeighborsClassifier()</pre><b>In a Jupyter environment, please rerun this cell to show the HTML representation or trust the notebook. <br />On GitHub, the HTML representation is unable to render, please try loading this page with nbviewer.org.</b></div><div class=\"sk-container\" hidden><div class=\"sk-item\"><div class=\"sk-estimator fitted sk-toggleable\"><input class=\"sk-toggleable__control sk-hidden--visually\" id=\"sk-estimator-id-1\" type=\"checkbox\" checked><label for=\"sk-estimator-id-1\" class=\"sk-toggleable__label fitted sk-toggleable__label-arrow\"><div><div>KNeighborsClassifier</div></div><div><a class=\"sk-estimator-doc-link fitted\" rel=\"noreferrer\" target=\"_blank\" href=\"https://scikit-learn.org/1.6/modules/generated/sklearn.neighbors.KNeighborsClassifier.html\">?<span>Documentation for KNeighborsClassifier</span></a><span class=\"sk-estimator-doc-link fitted\">i<span>Fitted</span></span></div></label><div class=\"sk-toggleable__content fitted\"><pre>KNeighborsClassifier()</pre></div> </div></div></div></div>"
            ],
            "text/plain": [
              "KNeighborsClassifier()"
            ]
          },
          "execution_count": 9,
          "metadata": {},
          "output_type": "execute_result"
        }
      ],
      "source": [
        "k = 5\n",
        "knn = KNeighborsClassifier(n_neighbors=k)\n",
        "knn.fit(X_train, y_train)"
      ]
    },
    {
      "cell_type": "markdown",
      "id": "epF1Xuy04OVH",
      "metadata": {
        "id": "epF1Xuy04OVH"
      },
      "source": [
        "**Make Predictions**"
      ]
    },
    {
      "cell_type": "code",
      "execution_count": null,
      "id": "kh7b2yRQ4S5s",
      "metadata": {
        "id": "kh7b2yRQ4S5s"
      },
      "outputs": [],
      "source": [
        "y_pred = knn.predict(X_test)\n",
        "y_pred_prob = knn.predict_proba(X_test)[:, 1]  # Probability predictions"
      ]
    },
    {
      "cell_type": "markdown",
      "id": "O_JXvGbI4XJS",
      "metadata": {
        "id": "O_JXvGbI4XJS"
      },
      "source": [
        "**Evaluation Metrics**"
      ]
    },
    {
      "cell_type": "code",
      "execution_count": null,
      "id": "MKHJD-qe4aoa",
      "metadata": {
        "colab": {
          "base_uri": "https://localhost:8080/"
        },
        "id": "MKHJD-qe4aoa",
        "outputId": "78aa1182-042c-48e2-ff56-af2a291d9ac1"
      },
      "outputs": [
        {
          "name": "stdout",
          "output_type": "stream",
          "text": [
            "Accuracy: 0.7229437229437229\n",
            "Accuracy (%): 72.2943722943723\n",
            "\n",
            "Confusion Matrix:\n",
            "[[125  34]\n",
            " [ 30  42]]\n",
            "\n",
            "Scaled Confusion Matrix (230 instances):\n",
            "[[124.45887446  33.85281385]\n",
            " [ 29.87012987  41.81818182]]\n",
            "\n",
            "Training Accuracy: 0.82\n",
            "Test Accuracy: 0.72\n"
          ]
        }
      ],
      "source": [
        "accuracy = accuracy_score(y_test, y_pred)\n",
        "print(\"Accuracy:\", accuracy)\n",
        "print(\"Accuracy (%):\", accuracy * 100)\n",
        "\n",
        "# Confusion Matrix\n",
        "cm = confusion_matrix(y_test, y_pred)\n",
        "print(\"\\nConfusion Matrix:\")\n",
        "print(cm)\n",
        "\n",
        "# Scaled Confusion Matrix (e.g. if total should be 230)\n",
        "scaling_factor = 230 / np.sum(cm)\n",
        "scaled_cm = cm * scaling_factor\n",
        "print(\"\\nScaled Confusion Matrix (230 instances):\")\n",
        "print(scaled_cm)\n",
        "\n",
        "# Training and Test Accuracy\n",
        "acc_train = accuracy_score(y_train, knn.predict(X_train))\n",
        "acc_test = knn.score(X_test, y_test)\n",
        "print(\"\\nTraining Accuracy:\", round(acc_train, 2))\n",
        "print(\"Test Accuracy:\", round(acc_test, 2))\n"
      ]
    },
    {
      "cell_type": "markdown",
      "id": "fI3NRuLQ4eP-",
      "metadata": {
        "id": "fI3NRuLQ4eP-"
      },
      "source": [
        "**Detailed Error Metrics**"
      ]
    },
    {
      "cell_type": "code",
      "execution_count": null,
      "id": "cEFmF5sH4le0",
      "metadata": {
        "colab": {
          "base_uri": "https://localhost:8080/"
        },
        "id": "cEFmF5sH4le0",
        "outputId": "dae35db0-8c26-4bea-ac98-11efbe40e07b"
      },
      "outputs": [
        {
          "name": "stdout",
          "output_type": "stream",
          "text": [
            "\n",
            "False Positive Rate (FPR): 0.2138364779874214\n",
            "False Negative Rate (FNR): 0.4166666666666667\n",
            "True Positive Rate (TPR): 0.5833333333333334\n",
            "True Negative Rate (TNR): 0.7861635220125787\n",
            "\n",
            "Classification Report:\n",
            "              precision    recall  f1-score   support\n",
            "\n",
            "           0       0.81      0.79      0.80       159\n",
            "           1       0.55      0.58      0.57        72\n",
            "\n",
            "    accuracy                           0.72       231\n",
            "   macro avg       0.68      0.68      0.68       231\n",
            "weighted avg       0.73      0.72      0.72       231\n",
            "\n",
            "MAE: 0.27705627705627706\n",
            "RMSE: 0.5263613559678152\n",
            "RAE: 0.0027952480782669456\n",
            "RRSE: 0.0747696205456059\n"
          ]
        }
      ],
      "source": [
        "TN, FP, FN, TP = cm.ravel()\n",
        "\n",
        "# Rates\n",
        "FPR = FP / (FP + TN)\n",
        "FNR = FN / (FN + TP)\n",
        "TPR = TP / (TP + FN)   # Sensitivity / Recall\n",
        "TNR = TN / (TN + FP)   # Specificity\n",
        "\n",
        "print(\"\\nFalse Positive Rate (FPR):\", FPR)\n",
        "print(\"False Negative Rate (FNR):\", FNR)\n",
        "print(\"True Positive Rate (TPR):\", TPR)\n",
        "print(\"True Negative Rate (TNR):\", TNR)\n",
        "\n",
        "# Classification Report\n",
        "print(\"\\nClassification Report:\")\n",
        "print(classification_report(y_test, y_pred))\n",
        "\n",
        "# Error Metrics\n",
        "mae = mean_absolute_error(y_test, y_pred)\n",
        "mse = mean_squared_error(y_test, y_pred)\n",
        "rmse = np.sqrt(mse)\n",
        "rae = mae / (abs(y_test - y_test.mean()).sum())\n",
        "rrse = np.sqrt(mse / ((y_test - y_test.mean()) ** 2).sum())\n",
        "\n",
        "print(\"MAE:\", mae)\n",
        "print(\"RMSE:\", rmse)\n",
        "print(\"RAE:\", rae)\n",
        "print(\"RRSE:\", rrse)"
      ]
    },
    {
      "cell_type": "markdown",
      "id": "2s5pjEqO4nt2",
      "metadata": {
        "id": "2s5pjEqO4nt2"
      },
      "source": [
        "**Advanced Metrics**"
      ]
    },
    {
      "cell_type": "code",
      "execution_count": null,
      "id": "-k8y0kIs4r_Z",
      "metadata": {
        "colab": {
          "base_uri": "https://localhost:8080/"
        },
        "id": "-k8y0kIs4r_Z",
        "outputId": "77abda80-51ec-4c49-ef38-50be309a0b9f"
      },
      "outputs": [
        {
          "name": "stdout",
          "output_type": "stream",
          "text": [
            "MCC: 0.3642528108283687\n",
            "ROC AUC: 0.7546733053808525\n",
            "PRC AUC: 0.5666058244716261\n"
          ]
        }
      ],
      "source": [
        "# MCC\n",
        "mcc = matthews_corrcoef(y_test, np.round(y_pred_prob))\n",
        "print(\"MCC:\", mcc)\n",
        "\n",
        "# ROC and PRC Curves\n",
        "fpr, tpr, _ = roc_curve(y_test, y_pred_prob)\n",
        "roc_auc = auc(fpr, tpr)\n",
        "print(\"ROC AUC:\", roc_auc)\n",
        "\n",
        "precision, recall, _ = precision_recall_curve(y_test, y_pred_prob)\n",
        "prc_auc = auc(recall, precision)\n",
        "print(\"PRC AUC:\", prc_auc)\n"
      ]
    },
    {
      "cell_type": "markdown",
      "id": "94lYAmly4u5Y",
      "metadata": {
        "id": "94lYAmly4u5Y"
      },
      "source": [
        "**Plotting Curves**"
      ]
    },
    {
      "cell_type": "code",
      "execution_count": null,
      "id": "gjiAQquO4y03",
      "metadata": {
        "colab": {
          "base_uri": "https://localhost:8080/",
          "height": 927
        },
        "id": "gjiAQquO4y03",
        "outputId": "7be3dca9-ce53-454f-9dc7-ec9b492fd7f4"
      },
      "outputs": [
        {
          "data": {
            "image/png": "[encoded data removed]",
            "text/plain": [
              "<Figure size 640x480 with 1 Axes>"
            ]
          },
          "metadata": {},
          "output_type": "display_data"
        },
        {
          "data": {
            "image/png": "[encoded data removed]",
            "text/plain": [
              "<Figure size 640x480 with 1 Axes>"
            ]
          },
          "metadata": {},
          "output_type": "display_data"
        }
      ],
      "source": [
        "# ROC Curve\n",
        "plt.figure()\n",
        "plt.plot(fpr, tpr, color='darkorange', lw=2, label='ROC curve (area = %0.2f)' % roc_auc)\n",
        "plt.plot([0, 1], [0, 1], color='navy', lw=2, linestyle='--')\n",
        "plt.xlim([0.0, 1.0])\n",
        "plt.ylim([0.0, 1.05])\n",
        "plt.xlabel('False Positive Rate')\n",
        "plt.ylabel('True Positive Rate')\n",
        "plt.title('ROC Curve Using KNN')\n",
        "plt.legend(loc=\"lower right\")\n",
        "plt.savefig(\"KNN_ROC.jpg\")\n",
        "plt.show()\n",
        "\n",
        "# PRC Curve\n",
        "plt.figure()\n",
        "plt.plot(recall, precision, color='darkorange', lw=2, label='PRC curve (area = %0.2f)' % prc_auc)\n",
        "plt.xlim([0.0, 1.0])\n",
        "plt.ylim([0.0, 1.05])\n",
        "plt.xlabel('Recall')\n",
        "plt.ylabel('Precision')\n",
        "plt.title('Precision-Recall Curve')\n",
        "plt.legend(loc=\"lower right\")\n",
        "plt.show()"
      ]
    },
    {
      "cell_type": "markdown",
      "id": "7eD7-sFC42ap",
      "metadata": {
        "id": "7eD7-sFC42ap"
      },
      "source": [
        "**Weighted Metrics by Class**"
      ]
    },
    {
      "cell_type": "code",
      "execution_count": null,
      "id": "a52b5f4d",
      "metadata": {
        "colab": {
          "base_uri": "https://localhost:8080/"
        },
        "id": "a52b5f4d",
        "outputId": "c55d0e8c-8d5b-4aaf-9e33-743c90aa4d8d"
      },
      "outputs": [
        {
          "name": "stdout",
          "output_type": "stream",
          "text": [
            "\n",
            "tp_rate0: 0.5833333333333334\n",
            "tp_rate1: 0.7861635220125787\n",
            "fp_rate0: 0.2138364779874214\n",
            "fp_rate1: 0.4166666666666667\n",
            "Weighted TP Rate (average): 0.6847484276729561\n",
            "Weighted FP Rate (average): 0.31525157232704404\n",
            "Weighted TP Rate (adjusted): 0.4949494949494949\n",
            "Weighted FP Rate (adjusted): 0.07544378698224852\n"
          ]
        }
      ],
      "source": [
        "# Ravel again just for clarity\n",
        "tn, fp, fn, tp = cm.ravel()\n",
        "tn0, fp0, fn0, tp0 = cm.ravel()           # Class 0\n",
        "tn1, fp1, fn1, tp1 = cm.ravel()[::-1]     # Class 1 (flipped)\n",
        "\n",
        "tp_rate0 = tp0 / (tp0 + fn0)\n",
        "fp_rate0 = fp0 / (fp0 + tn0)\n",
        "tp_rate1 = tp1 / (tp1 + fn1)\n",
        "fp_rate1 = fp1 / (fp1 + tn1)\n",
        "\n",
        "print(\"\\ntp_rate0:\", tp_rate0)\n",
        "print(\"tp_rate1:\", tp_rate1)\n",
        "print(\"fp_rate0:\", fp_rate0)\n",
        "print(\"fp_rate1:\", fp_rate1)\n",
        "\n",
        "# Weighted TP/FP\n",
        "weighted_tp = tp * 0.7\n",
        "weighted_fp = fp * 0.3\n",
        "\n",
        "weighted_tp_rate_avg = (tp_rate0 + tp_rate1) / 2\n",
        "weighted_fp_rate_avg = (fp_rate0 + fp_rate1) / 2\n",
        "print(\"Weighted TP Rate (average):\", weighted_tp_rate_avg)\n",
        "print(\"Weighted FP Rate (average):\", weighted_fp_rate_avg)\n",
        "\n",
        "# Weighted TP and FP rate based on total predictions\n",
        "weighted_tp_rate = weighted_tp / (weighted_tp + fn)\n",
        "weighted_fp_rate = weighted_fp / (weighted_fp + tn)\n",
        "\n",
        "print(\"Weighted TP Rate (adjusted):\", weighted_tp_rate)\n",
        "print(\"Weighted FP Rate (adjusted):\", weighted_fp_rate)\n"
      ]
    },
    {
      "cell_type": "markdown",
      "id": "5txR4oWp6EbE",
      "metadata": {
        "id": "5txR4oWp6EbE"
      },
      "source": [
        "# **Logistic Regression**"
      ]
    },
    {
      "cell_type": "markdown",
      "id": "VqyAsHco6Onp",
      "metadata": {
        "id": "VqyAsHco6Onp"
      },
      "source": [
        "**Imports**"
      ]
    },
    {
      "cell_type": "code",
      "execution_count": null,
      "id": "YsDfrDpL6an6",
      "metadata": {
        "id": "YsDfrDpL6an6"
      },
      "outputs": [],
      "source": [
        "import numpy as np\n",
        "import pandas as pd\n",
        "import seaborn as sns\n",
        "import matplotlib.pyplot as plt\n",
        "\n",
        "from sklearn.model_selection import train_test_split\n",
        "from sklearn.linear_model import LogisticRegression\n",
        "from sklearn.metrics import (\n",
        "    confusion_matrix, mean_absolute_error, mean_squared_error, accuracy_score,\n",
        "    classification_report, matthews_corrcoef, roc_curve, precision_recall_curve, auc\n",
        ")\n"
      ]
    },
    {
      "cell_type": "markdown",
      "id": "-3Xe3fza6dTc",
      "metadata": {
        "id": "-3Xe3fza6dTc"
      },
      "source": [
        "**Load Dataset**"
      ]
    },
    {
      "cell_type": "code",
      "execution_count": null,
      "id": "Kdii9orD6gYi",
      "metadata": {
        "id": "Kdii9orD6gYi"
      },
      "outputs": [],
      "source": [
        "def main():\n",
        "    # === 1. Load and Explore Dataset ===\n",
        "    url = 'https://raw.githubusercontent.com/jbrownlee/Datasets/master/pima-indians-diabetes.data.csv'\n",
        "    column_names = ['preg', 'plas', 'pres', 'skin', 'test', 'mass', 'pedi', 'age', 'class']\n",
        "    dataset = pd.read_csv(url, names=column_names)\n",
        "\n",
        "    print(\"\\nDataset Preview:\")\n",
        "    print(dataset.head())\n",
        "    print(\"\\nDataset Description:\")\n",
        "    print(dataset.describe())\n",
        "    print(\"\\nMissing Values Check:\")\n",
        "    print(dataset.isnull().sum())\n",
        "    print(\"\\nDataset Info:\")\n",
        "    print(dataset.info())\n",
        "    X = dataset.iloc[:, :-1].values\n",
        "    y = dataset.iloc[:, -1].values\n",
        "\n",
        "    X_train, X_test, y_train, y_test = train_test_split(\n",
        "        X, y, test_size=0.3, random_state=30\n",
        "    )\n",
        "\n"
      ]
    },
    {
      "cell_type": "markdown",
      "id": "CwIIqzVf7Fly",
      "metadata": {
        "id": "CwIIqzVf7Fly"
      },
      "source": [
        "**Train Logistic Regression Model**"
      ]
    },
    {
      "cell_type": "code",
      "execution_count": null,
      "id": "AZ3lvTdK7J8J",
      "metadata": {
        "colab": {
          "base_uri": "https://localhost:8080/",
          "height": 80
        },
        "id": "AZ3lvTdK7J8J",
        "outputId": "0266c45c-625c-479b-adb6-1d21e036f279"
      },
      "outputs": [
        {
          "data": {
            "text/html": [
              "<style>#sk-container-id-2 {\n",
              "  /* Definition of color scheme common for light and dark mode */\n",
              "  --sklearn-color-text: #000;\n",
              "  --sklearn-color-text-muted: #666;\n",
              "  --sklearn-color-line: gray;\n",
              "  /* Definition of color scheme for unfitted estimators */\n",
              "  --sklearn-color-unfitted-level-0: #fff5e6;\n",
              "  --sklearn-color-unfitted-level-1: #f6e4d2;\n",
              "  --sklearn-color-unfitted-level-2: #ffe0b3;\n",
              "  --sklearn-color-unfitted-level-3: chocolate;\n",
              "  /* Definition of color scheme for fitted estimators */\n",
              "  --sklearn-color-fitted-level-0: #f0f8ff;\n",
              "  --sklearn-color-fitted-level-1: #d4ebff;\n",
              "  --sklearn-color-fitted-level-2: #b3dbfd;\n",
              "  --sklearn-color-fitted-level-3: cornflowerblue;\n",
              "\n",
              "  /* Specific color for light theme */\n",
              "  --sklearn-color-text-on-default-background: var(--sg-text-color, var(--theme-code-foreground, var(--jp-content-font-color1, black)));\n",
              "  --sklearn-color-background: var(--sg-background-color, var(--theme-background, var(--jp-layout-color0, white)));\n",
              "  --sklearn-color-border-box: var(--sg-text-color, var(--theme-code-foreground, var(--jp-content-font-color1, black)));\n",
              "  --sklearn-color-icon: #696969;\n",
              "\n",
              "  @media (prefers-color-scheme: dark) {\n",
              "    /* Redefinition of color scheme for dark theme */\n",
              "    --sklearn-color-text-on-default-background: var(--sg-text-color, var(--theme-code-foreground, var(--jp-content-font-color1, white)));\n",
              "    --sklearn-color-background: var(--sg-background-color, var(--theme-background, var(--jp-layout-color0, #111)));\n",
              "    --sklearn-color-border-box: var(--sg-text-color, var(--theme-code-foreground, var(--jp-content-font-color1, white)));\n",
              "    --sklearn-color-icon: #878787;\n",
              "  }\n",
              "}\n",
              "\n",
              "#sk-container-id-2 {\n",
              "  color: var(--sklearn-color-text);\n",
              "}\n",
              "\n",
              "#sk-container-id-2 pre {\n",
              "  padding: 0;\n",
              "}\n",
              "\n",
              "#sk-container-id-2 input.sk-hidden--visually {\n",
              "  border: 0;\n",
              "  clip: rect(1px 1px 1px 1px);\n",
              "  clip: rect(1px, 1px, 1px, 1px);\n",
              "  height: 1px;\n",
              "  margin: -1px;\n",
              "  overflow: hidden;\n",
              "  padding: 0;\n",
              "  position: absolute;\n",
              "  width: 1px;\n",
              "}\n",
              "\n",
              "#sk-container-id-2 div.sk-dashed-wrapped {\n",
              "  border: 1px dashed var(--sklearn-color-line);\n",
              "  margin: 0 0.4em 0.5em 0.4em;\n",
              "  box-sizing: border-box;\n",
              "  padding-bottom: 0.4em;\n",
              "  background-color: var(--sklearn-color-background);\n",
              "}\n",
              "\n",
              "#sk-container-id-2 div.sk-container {\n",
              "  /* jupyter's `normalize.less` sets `[hidden] { display: none; }`\n",
              "     but bootstrap.min.css set `[hidden] { display: none !important; }`\n",
              "     so we also need the `!important` here to be able to override the\n",
              "     default hidden behavior on the sphinx rendered scikit-learn.org.\n",
              "     See: https://github.com/scikit-learn/scikit-learn/issues/21755 */\n",
              "  display: inline-block !important;\n",
              "  position: relative;\n",
              "}\n",
              "\n",
              "#sk-container-id-2 div.sk-text-repr-fallback {\n",
              "  display: none;\n",
              "}\n",
              "\n",
              "div.sk-parallel-item,\n",
              "div.sk-serial,\n",
              "div.sk-item {\n",
              "  /* draw centered vertical line to link estimators */\n",
              "  background-image: linear-gradient(var(--sklearn-color-text-on-default-background), var(--sklearn-color-text-on-default-background));\n",
              "  background-size: 2px 100%;\n",
              "  background-repeat: no-repeat;\n",
              "  background-position: center center;\n",
              "}\n",
              "\n",
              "/* Parallel-specific style estimator block */\n",
              "\n",
              "#sk-container-id-2 div.sk-parallel-item::after {\n",
              "  content: \"\";\n",
              "  width: 100%;\n",
              "  border-bottom: 2px solid var(--sklearn-color-text-on-default-background);\n",
              "  flex-grow: 1;\n",
              "}\n",
              "\n",
              "#sk-container-id-2 div.sk-parallel {\n",
              "  display: flex;\n",
              "  align-items: stretch;\n",
              "  justify-content: center;\n",
              "  background-color: var(--sklearn-color-background);\n",
              "  position: relative;\n",
              "}\n",
              "\n",
              "#sk-container-id-2 div.sk-parallel-item {\n",
              "  display: flex;\n",
              "  flex-direction: column;\n",
              "}\n",
              "\n",
              "#sk-container-id-2 div.sk-parallel-item:first-child::after {\n",
              "  align-self: flex-end;\n",
              "  width: 50%;\n",
              "}\n",
              "\n",
              "#sk-container-id-2 div.sk-parallel-item:last-child::after {\n",
              "  align-self: flex-start;\n",
              "  width: 50%;\n",
              "}\n",
              "\n",
              "#sk-container-id-2 div.sk-parallel-item:only-child::after {\n",
              "  width: 0;\n",
              "}\n",
              "\n",
              "/* Serial-specific style estimator block */\n",
              "\n",
              "#sk-container-id-2 div.sk-serial {\n",
              "  display: flex;\n",
              "  flex-direction: column;\n",
              "  align-items: center;\n",
              "  background-color: var(--sklearn-color-background);\n",
              "  padding-right: 1em;\n",
              "  padding-left: 1em;\n",
              "}\n",
              "\n",
              "\n",
              "/* Toggleable style: style used for estimator/Pipeline/ColumnTransformer box that is\n",
              "clickable and can be expanded/collapsed.\n",
              "- Pipeline and ColumnTransformer use this feature and define the default style\n",
              "- Estimators will overwrite some part of the style using the `sk-estimator` class\n",
              "*/\n",
              "\n",
              "/* Pipeline and ColumnTransformer style (default) */\n",
              "\n",
              "#sk-container-id-2 div.sk-toggleable {\n",
              "  /* Default theme specific background. It is overwritten whether we have a\n",
              "  specific estimator or a Pipeline/ColumnTransformer */\n",
              "  background-color: var(--sklearn-color-background);\n",
              "}\n",
              "\n",
              "/* Toggleable label */\n",
              "#sk-container-id-2 label.sk-toggleable__label {\n",
              "  cursor: pointer;\n",
              "  display: flex;\n",
              "  width: 100%;\n",
              "  margin-bottom: 0;\n",
              "  padding: 0.5em;\n",
              "  box-sizing: border-box;\n",
              "  text-align: center;\n",
              "  align-items: start;\n",
              "  justify-content: space-between;\n",
              "  gap: 0.5em;\n",
              "}\n",
              "\n",
              "#sk-container-id-2 label.sk-toggleable__label .caption {\n",
              "  font-size: 0.6rem;\n",
              "  font-weight: lighter;\n",
              "  color: var(--sklearn-color-text-muted);\n",
              "}\n",
              "\n",
              "#sk-container-id-2 label.sk-toggleable__label-arrow:before {\n",
              "  /* Arrow on the left of the label */\n",
              "  content: \"▸\";\n",
              "  float: left;\n",
              "  margin-right: 0.25em;\n",
              "  color: var(--sklearn-color-icon);\n",
              "}\n",
              "\n",
              "#sk-container-id-2 label.sk-toggleable__label-arrow:hover:before {\n",
              "  color: var(--sklearn-color-text);\n",
              "}\n",
              "\n",
              "/* Toggleable content - dropdown */\n",
              "\n",
              "#sk-container-id-2 div.sk-toggleable__content {\n",
              "  max-height: 0;\n",
              "  max-width: 0;\n",
              "  overflow: hidden;\n",
              "  text-align: left;\n",
              "  /* unfitted */\n",
              "  background-color: var(--sklearn-color-unfitted-level-0);\n",
              "}\n",
              "\n",
              "#sk-container-id-2 div.sk-toggleable__content.fitted {\n",
              "  /* fitted */\n",
              "  background-color: var(--sklearn-color-fitted-level-0);\n",
              "}\n",
              "\n",
              "#sk-container-id-2 div.sk-toggleable__content pre {\n",
              "  margin: 0.2em;\n",
              "  border-radius: 0.25em;\n",
              "  color: var(--sklearn-color-text);\n",
              "  /* unfitted */\n",
              "  background-color: var(--sklearn-color-unfitted-level-0);\n",
              "}\n",
              "\n",
              "#sk-container-id-2 div.sk-toggleable__content.fitted pre {\n",
              "  /* unfitted */\n",
              "  background-color: var(--sklearn-color-fitted-level-0);\n",
              "}\n",
              "\n",
              "#sk-container-id-2 input.sk-toggleable__control:checked~div.sk-toggleable__content {\n",
              "  /* Expand drop-down */\n",
              "  max-height: 200px;\n",
              "  max-width: 100%;\n",
              "  overflow: auto;\n",
              "}\n",
              "\n",
              "#sk-container-id-2 input.sk-toggleable__control:checked~label.sk-toggleable__label-arrow:before {\n",
              "  content: \"▾\";\n",
              "}\n",
              "\n",
              "/* Pipeline/ColumnTransformer-specific style */\n",
              "\n",
              "#sk-container-id-2 div.sk-label input.sk-toggleable__control:checked~label.sk-toggleable__label {\n",
              "  color: var(--sklearn-color-text);\n",
              "  background-color: var(--sklearn-color-unfitted-level-2);\n",
              "}\n",
              "\n",
              "#sk-container-id-2 div.sk-label.fitted input.sk-toggleable__control:checked~label.sk-toggleable__label {\n",
              "  background-color: var(--sklearn-color-fitted-level-2);\n",
              "}\n",
              "\n",
              "/* Estimator-specific style */\n",
              "\n",
              "/* Colorize estimator box */\n",
              "#sk-container-id-2 div.sk-estimator input.sk-toggleable__control:checked~label.sk-toggleable__label {\n",
              "  /* unfitted */\n",
              "  background-color: var(--sklearn-color-unfitted-level-2);\n",
              "}\n",
              "\n",
              "#sk-container-id-2 div.sk-estimator.fitted input.sk-toggleable__control:checked~label.sk-toggleable__label {\n",
              "  /* fitted */\n",
              "  background-color: var(--sklearn-color-fitted-level-2);\n",
              "}\n",
              "\n",
              "#sk-container-id-2 div.sk-label label.sk-toggleable__label,\n",
              "#sk-container-id-2 div.sk-label label {\n",
              "  /* The background is the default theme color */\n",
              "  color: var(--sklearn-color-text-on-default-background);\n",
              "}\n",
              "\n",
              "/* On hover, darken the color of the background */\n",
              "#sk-container-id-2 div.sk-label:hover label.sk-toggleable__label {\n",
              "  color: var(--sklearn-color-text);\n",
              "  background-color: var(--sklearn-color-unfitted-level-2);\n",
              "}\n",
              "\n",
              "/* Label box, darken color on hover, fitted */\n",
              "#sk-container-id-2 div.sk-label.fitted:hover label.sk-toggleable__label.fitted {\n",
              "  color: var(--sklearn-color-text);\n",
              "  background-color: var(--sklearn-color-fitted-level-2);\n",
              "}\n",
              "\n",
              "/* Estimator label */\n",
              "\n",
              "#sk-container-id-2 div.sk-label label {\n",
              "  font-family: monospace;\n",
              "  font-weight: bold;\n",
              "  display: inline-block;\n",
              "  line-height: 1.2em;\n",
              "}\n",
              "\n",
              "#sk-container-id-2 div.sk-label-container {\n",
              "  text-align: center;\n",
              "}\n",
              "\n",
              "/* Estimator-specific */\n",
              "#sk-container-id-2 div.sk-estimator {\n",
              "  font-family: monospace;\n",
              "  border: 1px dotted var(--sklearn-color-border-box);\n",
              "  border-radius: 0.25em;\n",
              "  box-sizing: border-box;\n",
              "  margin-bottom: 0.5em;\n",
              "  /* unfitted */\n",
              "  background-color: var(--sklearn-color-unfitted-level-0);\n",
              "}\n",
              "\n",
              "#sk-container-id-2 div.sk-estimator.fitted {\n",
              "  /* fitted */\n",
              "  background-color: var(--sklearn-color-fitted-level-0);\n",
              "}\n",
              "\n",
              "/* on hover */\n",
              "#sk-container-id-2 div.sk-estimator:hover {\n",
              "  /* unfitted */\n",
              "  background-color: var(--sklearn-color-unfitted-level-2);\n",
              "}\n",
              "\n",
              "#sk-container-id-2 div.sk-estimator.fitted:hover {\n",
              "  /* fitted */\n",
              "  background-color: var(--sklearn-color-fitted-level-2);\n",
              "}\n",
              "\n",
              "/* Specification for estimator info (e.g. \"i\" and \"?\") */\n",
              "\n",
              "/* Common style for \"i\" and \"?\" */\n",
              "\n",
              ".sk-estimator-doc-link,\n",
              "a:link.sk-estimator-doc-link,\n",
              "a:visited.sk-estimator-doc-link {\n",
              "  float: right;\n",
              "  font-size: smaller;\n",
              "  line-height: 1em;\n",
              "  font-family: monospace;\n",
              "  background-color: var(--sklearn-color-background);\n",
              "  border-radius: 1em;\n",
              "  height: 1em;\n",
              "  width: 1em;\n",
              "  text-decoration: none !important;\n",
              "  margin-left: 0.5em;\n",
              "  text-align: center;\n",
              "  /* unfitted */\n",
              "  border: var(--sklearn-color-unfitted-level-1) 1pt solid;\n",
              "  color: var(--sklearn-color-unfitted-level-1);\n",
              "}\n",
              "\n",
              ".sk-estimator-doc-link.fitted,\n",
              "a:link.sk-estimator-doc-link.fitted,\n",
              "a:visited.sk-estimator-doc-link.fitted {\n",
              "  /* fitted */\n",
              "  border: var(--sklearn-color-fitted-level-1) 1pt solid;\n",
              "  color: var(--sklearn-color-fitted-level-1);\n",
              "}\n",
              "\n",
              "/* On hover */\n",
              "div.sk-estimator:hover .sk-estimator-doc-link:hover,\n",
              ".sk-estimator-doc-link:hover,\n",
              "div.sk-label-container:hover .sk-estimator-doc-link:hover,\n",
              ".sk-estimator-doc-link:hover {\n",
              "  /* unfitted */\n",
              "  background-color: var(--sklearn-color-unfitted-level-3);\n",
              "  color: var(--sklearn-color-background);\n",
              "  text-decoration: none;\n",
              "}\n",
              "\n",
              "div.sk-estimator.fitted:hover .sk-estimator-doc-link.fitted:hover,\n",
              ".sk-estimator-doc-link.fitted:hover,\n",
              "div.sk-label-container:hover .sk-estimator-doc-link.fitted:hover,\n",
              ".sk-estimator-doc-link.fitted:hover {\n",
              "  /* fitted */\n",
              "  background-color: var(--sklearn-color-fitted-level-3);\n",
              "  color: var(--sklearn-color-background);\n",
              "  text-decoration: none;\n",
              "}\n",
              "\n",
              "/* Span, style for the box shown on hovering the info icon */\n",
              ".sk-estimator-doc-link span {\n",
              "  display: none;\n",
              "  z-index: 9999;\n",
              "  position: relative;\n",
              "  font-weight: normal;\n",
              "  right: .2ex;\n",
              "  padding: .5ex;\n",
              "  margin: .5ex;\n",
              "  width: min-content;\n",
              "  min-width: 20ex;\n",
              "  max-width: 50ex;\n",
              "  color: var(--sklearn-color-text);\n",
              "  box-shadow: 2pt 2pt 4pt #999;\n",
              "  /* unfitted */\n",
              "  background: var(--sklearn-color-unfitted-level-0);\n",
              "  border: .5pt solid var(--sklearn-color-unfitted-level-3);\n",
              "}\n",
              "\n",
              ".sk-estimator-doc-link.fitted span {\n",
              "  /* fitted */\n",
              "  background: var(--sklearn-color-fitted-level-0);\n",
              "  border: var(--sklearn-color-fitted-level-3);\n",
              "}\n",
              "\n",
              ".sk-estimator-doc-link:hover span {\n",
              "  display: block;\n",
              "}\n",
              "\n",
              "/* \"?\"-specific style due to the `<a>` HTML tag */\n",
              "\n",
              "#sk-container-id-2 a.estimator_doc_link {\n",
              "  float: right;\n",
              "  font-size: 1rem;\n",
              "  line-height: 1em;\n",
              "  font-family: monospace;\n",
              "  background-color: var(--sklearn-color-background);\n",
              "  border-radius: 1rem;\n",
              "  height: 1rem;\n",
              "  width: 1rem;\n",
              "  text-decoration: none;\n",
              "  /* unfitted */\n",
              "  color: var(--sklearn-color-unfitted-level-1);\n",
              "  border: var(--sklearn-color-unfitted-level-1) 1pt solid;\n",
              "}\n",
              "\n",
              "#sk-container-id-2 a.estimator_doc_link.fitted {\n",
              "  /* fitted */\n",
              "  border: var(--sklearn-color-fitted-level-1) 1pt solid;\n",
              "  color: var(--sklearn-color-fitted-level-1);\n",
              "}\n",
              "\n",
              "/* On hover */\n",
              "#sk-container-id-2 a.estimator_doc_link:hover {\n",
              "  /* unfitted */\n",
              "  background-color: var(--sklearn-color-unfitted-level-3);\n",
              "  color: var(--sklearn-color-background);\n",
              "  text-decoration: none;\n",
              "}\n",
              "\n",
              "#sk-container-id-2 a.estimator_doc_link.fitted:hover {\n",
              "  /* fitted */\n",
              "  background-color: var(--sklearn-color-fitted-level-3);\n",
              "}\n",
              "</style><div id=\"sk-container-id-2\" class=\"sk-top-container\"><div class=\"sk-text-repr-fallback\"><pre>LogisticRegression(max_iter=1000)</pre><b>In a Jupyter environment, please rerun this cell to show the HTML representation or trust the notebook. <br />On GitHub, the HTML representation is unable to render, please try loading this page with nbviewer.org.</b></div><div class=\"sk-container\" hidden><div class=\"sk-item\"><div class=\"sk-estimator fitted sk-toggleable\"><input class=\"sk-toggleable__control sk-hidden--visually\" id=\"sk-estimator-id-2\" type=\"checkbox\" checked><label for=\"sk-estimator-id-2\" class=\"sk-toggleable__label fitted sk-toggleable__label-arrow\"><div><div>LogisticRegression</div></div><div><a class=\"sk-estimator-doc-link fitted\" rel=\"noreferrer\" target=\"_blank\" href=\"https://scikit-learn.org/1.6/modules/generated/sklearn.linear_model.LogisticRegression.html\">?<span>Documentation for LogisticRegression</span></a><span class=\"sk-estimator-doc-link fitted\">i<span>Fitted</span></span></div></label><div class=\"sk-toggleable__content fitted\"><pre>LogisticRegression(max_iter=1000)</pre></div> </div></div></div></div>"
            ],
            "text/plain": [
              "LogisticRegression(max_iter=1000)"
            ]
          },
          "execution_count": 26,
          "metadata": {},
          "output_type": "execute_result"
        }
      ],
      "source": [
        "    model = LogisticRegression(max_iter=1000)\n",
        "    model.fit(X_train, y_train)\n"
      ]
    },
    {
      "cell_type": "markdown",
      "id": "rAQsMbBD7N8O",
      "metadata": {
        "id": "rAQsMbBD7N8O"
      },
      "source": [
        "**Predict and Evaluate**"
      ]
    },
    {
      "cell_type": "code",
      "execution_count": null,
      "id": "JLw4EIIT7RfJ",
      "metadata": {
        "colab": {
          "base_uri": "https://localhost:8080/"
        },
        "id": "JLw4EIIT7RfJ",
        "outputId": "7288c312-840b-4229-a866-3e9953ad8b23"
      },
      "outputs": [
        {
          "name": "stdout",
          "output_type": "stream",
          "text": [
            "\n",
            "Confusion Matrix:\n",
            "[[139  20]\n",
            " [ 27  45]]\n",
            "\n",
            "Scaled Confusion Matrix (230 instances):\n",
            "[[138.3982684   19.91341991]\n",
            " [ 26.88311688  44.80519481]]\n",
            "\n",
            "Overall Accuracy: 79.65%\n",
            "Training Accuracy: 0.76\n",
            "Test Accuracy: 0.80\n"
          ]
        }
      ],
      "source": [
        "    y_pred = model.predict(X_test)\n",
        "    cm = confusion_matrix(y_test, y_pred)\n",
        "\n",
        "    print(\"\\nConfusion Matrix:\")\n",
        "    print(cm)\n",
        "\n",
        "    # Scale confusion matrix to 230 samples (hypothetical example)\n",
        "    scale_factor = 230 / np.sum(cm)\n",
        "    scaled_cm = cm * scale_factor\n",
        "    print(\"\\nScaled Confusion Matrix (230 instances):\")\n",
        "    print(scaled_cm)\n",
        "\n",
        "    # Accuracy\n",
        "    accuracy = accuracy_score(y_test, y_pred)\n",
        "    print(\"\\nOverall Accuracy: {:.2f}%\".format(accuracy * 100))\n",
        "\n",
        "    train_acc = accuracy_score(y_train, model.predict(X_train))\n",
        "    test_acc = model.score(X_test, y_test)\n",
        "    print(\"Training Accuracy: {:.2f}\".format(train_acc))\n",
        "    print(\"Test Accuracy: {:.2f}\".format(test_acc))\n"
      ]
    },
    {
      "cell_type": "markdown",
      "id": "v49eAO8s7WbC",
      "metadata": {
        "id": "v49eAO8s7WbC"
      },
      "source": [
        "**Error Rates**"
      ]
    },
    {
      "cell_type": "code",
      "execution_count": null,
      "id": "ihnJ04Fu7ZfJ",
      "metadata": {
        "colab": {
          "base_uri": "https://localhost:8080/"
        },
        "id": "ihnJ04Fu7ZfJ",
        "outputId": "65154b1f-8a08-4aad-bae1-cb1da78343dc"
      },
      "outputs": [
        {
          "name": "stdout",
          "output_type": "stream",
          "text": [
            "\n",
            "Error Rates:\n",
            "False Positive Rate (FPR): 0.1258\n",
            "False Negative Rate (FNR): 0.3750\n",
            "True Positive Rate (TPR / Recall): 0.6250\n",
            "True Negative Rate (TNR): 0.8742\n",
            "\n",
            "Classification Report:\n",
            "              precision    recall  f1-score   support\n",
            "\n",
            "           0       0.84      0.87      0.86       159\n",
            "           1       0.69      0.62      0.66        72\n",
            "\n",
            "    accuracy                           0.80       231\n",
            "   macro avg       0.76      0.75      0.76       231\n",
            "weighted avg       0.79      0.80      0.79       231\n",
            "\n"
          ]
        }
      ],
      "source": [
        "    TN, FP, FN, TP = cm.ravel()\n",
        "    FPR = FP / (FP + TN)\n",
        "    FNR = FN / (FN + TP)\n",
        "    TPR = TP / (TP + FN)\n",
        "    TNR = TN / (TN + FP)\n",
        "\n",
        "    print(\"\\nError Rates:\")\n",
        "    print(f\"False Positive Rate (FPR): {FPR:.4f}\")\n",
        "    print(f\"False Negative Rate (FNR): {FNR:.4f}\")\n",
        "    print(f\"True Positive Rate (TPR / Recall): {TPR:.4f}\")\n",
        "    print(f\"True Negative Rate (TNR): {TNR:.4f}\")\n",
        "\n",
        "    print(\"\\nClassification Report:\")\n",
        "    print(classification_report(y_test, y_pred))\n"
      ]
    },
    {
      "cell_type": "markdown",
      "id": "x036Bka37eMb",
      "metadata": {
        "id": "x036Bka37eMb"
      },
      "source": [
        "**Regression-Like Metrics**"
      ]
    },
    {
      "cell_type": "code",
      "execution_count": null,
      "id": "tdhlpbiD7g0K",
      "metadata": {
        "colab": {
          "base_uri": "https://localhost:8080/"
        },
        "id": "tdhlpbiD7g0K",
        "outputId": "806160f6-e4bf-464f-8669-d0a0c0abbe26"
      },
      "outputs": [
        {
          "name": "stdout",
          "output_type": "stream",
          "text": [
            "\n",
            "Regression Metrics:\n",
            "Mean Absolute Error (MAE): 0.2035\n",
            "Root Mean Squared Error (RMSE): 0.4511\n"
          ]
        }
      ],
      "source": [
        "    mae = mean_absolute_error(y_test, y_pred)\n",
        "    mse = mean_squared_error(y_test, y_pred)\n",
        "    rmse = np.sqrt(mse)\n",
        "\n",
        "    print(\"\\nRegression Metrics:\")\n",
        "    print(f\"Mean Absolute Error (MAE): {mae:.4f}\")\n",
        "    print(f\"Root Mean Squared Error (RMSE): {rmse:.4f}\")\n"
      ]
    },
    {
      "cell_type": "code",
      "execution_count": null,
      "id": "1ab62607",
      "metadata": {
        "id": "1ab62607"
      },
      "outputs": [],
      "source": []
    },
    {
      "cell_type": "markdown",
      "id": "Eul7OGze7jvj",
      "metadata": {
        "id": "Eul7OGze7jvj"
      },
      "source": [
        "**Advanced Metrics**"
      ]
    },
    {
      "cell_type": "code",
      "execution_count": null,
      "id": "EC954Lgq7s74",
      "metadata": {
        "colab": {
          "base_uri": "https://localhost:8080/"
        },
        "id": "EC954Lgq7s74",
        "outputId": "d46adc00-2e44-4c72-a21f-328f4accaee0"
      },
      "outputs": [
        {
          "name": "stdout",
          "output_type": "stream",
          "text": [
            "\n",
            "Advanced Metrics:\n",
            "Matthews Correlation Coefficient (MCC): 0.5142\n",
            "ROC AUC: 0.8437\n",
            "PRC AUC: 0.6992\n"
          ]
        }
      ],
      "source": [
        "    y_pred_proba = model.predict_proba(X_test)[:, 1]\n",
        "    mcc = matthews_corrcoef(y_test, np.round(y_pred_proba))\n",
        "\n",
        "    fpr, tpr, _ = roc_curve(y_test, y_pred_proba)\n",
        "    roc_auc = auc(fpr, tpr)\n",
        "\n",
        "    precision, recall, _ = precision_recall_curve(y_test, y_pred_proba)\n",
        "    prc_auc = auc(recall, precision)\n",
        "    print(\"\\nAdvanced Metrics:\")\n",
        "    print(f\"Matthews Correlation Coefficient (MCC): {mcc:.4f}\")\n",
        "    print(f\"ROC AUC: {roc_auc:.4f}\")\n",
        "    print(f\"PRC AUC: {prc_auc:.4f}\")\n",
        "\n"
      ]
    },
    {
      "cell_type": "markdown",
      "id": "pq97tHHG73jT",
      "metadata": {
        "id": "pq97tHHG73jT"
      },
      "source": [
        "**Visualization**"
      ]
    },
    {
      "cell_type": "code",
      "execution_count": null,
      "id": "yLRIsNfO79lh",
      "metadata": {
        "colab": {
          "base_uri": "https://localhost:8080/",
          "height": 507
        },
        "id": "yLRIsNfO79lh",
        "outputId": "5199e075-cb3f-4228-e16e-44f1b6731970"
      },
      "outputs": [
        {
          "data": {
            "image/png": "[encoded data removed]",
            "text/plain": [
              "<Figure size 1000x500 with 2 Axes>"
            ]
          },
          "metadata": {},
          "output_type": "display_data"
        }
      ],
      "source": [
        "    plt.figure(figsize=(10, 5))\n",
        "\n",
        "    # ROC Curve\n",
        "    plt.subplot(1, 2, 1)\n",
        "    plt.plot(fpr, tpr, color='darkorange', lw=2, label=f'ROC curve (AUC = {roc_auc:.2f})')\n",
        "    plt.plot([0, 1], [0, 1], color='navy', lw=1, linestyle='--')\n",
        "    plt.xlabel('False Positive Rate')\n",
        "    plt.ylabel('True Positive Rate')\n",
        "    plt.title('ROC Curve')\n",
        "    plt.legend(loc=\"lower right\")\n",
        "\n",
        "    # PRC Curve\n",
        "    plt.subplot(1, 2, 2)\n",
        "    plt.plot(recall, precision, color='darkgreen', lw=2, label=f'PRC curve (AUC = {prc_auc:.2f})')\n",
        "    plt.xlabel('Recall')\n",
        "    plt.ylabel('Precision')\n",
        "    plt.title('Precision-Recall Curve')\n",
        "    plt.legend(loc=\"lower right\")\n",
        "\n",
        "    plt.tight_layout()\n",
        "    plt.savefig(\"model_performance_curves.jpg\")\n",
        "    plt.show()"
      ]
    },
    {
      "cell_type": "markdown",
      "id": "Q28HB_0V7_qT",
      "metadata": {
        "id": "Q28HB_0V7_qT"
      },
      "source": [
        "**Weighted Rate Example**"
      ]
    },
    {
      "cell_type": "code",
      "execution_count": null,
      "id": "pxa6cZzE8DGq",
      "metadata": {
        "colab": {
          "base_uri": "https://localhost:8080/"
        },
        "id": "pxa6cZzE8DGq",
        "outputId": "9b131dac-72b4-49a6-b356-2c5a84bba260"
      },
      "outputs": [
        {
          "name": "stdout",
          "output_type": "stream",
          "text": [
            "\n",
            "Weighted Rates (Example):\n",
            "Weighted TP Rate: 0.5385\n",
            "Weighted FP Rate: 0.0414\n"
          ]
        }
      ],
      "source": [
        "    weighted_tp = TP * 0.7\n",
        "    weighted_fp = FP * 0.3\n",
        "    weighted_tp_rate = weighted_tp / (weighted_tp + FN)\n",
        "    weighted_fp_rate = weighted_fp / (weighted_fp + TN)\n",
        "\n",
        "    print(\"\\nWeighted Rates (Example):\")\n",
        "    print(f\"Weighted TP Rate: {weighted_tp_rate:.4f}\")\n",
        "    print(f\"Weighted FP Rate: {weighted_fp_rate:.4f}\")\n",
        "\n"
      ]
    },
    {
      "cell_type": "markdown",
      "id": "_6MdxbuADh1n",
      "metadata": {
        "id": "_6MdxbuADh1n"
      },
      "source": [
        "# **Naive Bayes Classifier**"
      ]
    },
    {
      "cell_type": "markdown",
      "id": "wn-oMnDwDlJT",
      "metadata": {
        "id": "wn-oMnDwDlJT"
      },
      "source": [
        "**Imports**"
      ]
    },
    {
      "cell_type": "code",
      "execution_count": null,
      "id": "6bcnXPScDnvE",
      "metadata": {
        "id": "6bcnXPScDnvE"
      },
      "outputs": [],
      "source": [
        "import pandas as pd\n",
        "import numpy as np\n",
        "import matplotlib.pyplot as plt\n",
        "from sklearn.model_selection import train_test_split\n",
        "from sklearn.naive_bayes import GaussianNB\n",
        "from sklearn.metrics import (\n",
        "    accuracy_score, confusion_matrix, classification_report,\n",
        "    mean_absolute_error, mean_squared_error, matthews_corrcoef,\n",
        "    roc_curve, precision_recall_curve, auc\n",
        ")\n"
      ]
    },
    {
      "cell_type": "markdown",
      "id": "ZUwoW3wTDqI8",
      "metadata": {
        "id": "ZUwoW3wTDqI8"
      },
      "source": [
        "**Load Dataset and Inspect**"
      ]
    },
    {
      "cell_type": "code",
      "execution_count": null,
      "id": "OBsuzWOaDte0",
      "metadata": {
        "colab": {
          "base_uri": "https://localhost:8080/"
        },
        "id": "OBsuzWOaDte0",
        "outputId": "0351e110-bf52-4617-afa0-227df0c9cc18"
      },
      "outputs": [
        {
          "name": "stdout",
          "output_type": "stream",
          "text": [
            "\n",
            "Dataset Preview:\n",
            "   Pregnancies  Glucose  BloodPressure  SkinThickness  Insulin   BMI  \\\n",
            "0            6      148             72             35        0  33.6   \n",
            "1            1       85             66             29        0  26.6   \n",
            "2            8      183             64              0        0  23.3   \n",
            "3            1       89             66             23       94  28.1   \n",
            "4            0      137             40             35      168  43.1   \n",
            "\n",
            "   DiabetesPedigreeFunction  Age  Outcome  \n",
            "0                     0.627   50        1  \n",
            "1                     0.351   31        0  \n",
            "2                     0.672   32        1  \n",
            "3                     0.167   21        0  \n",
            "4                     2.288   33        1  \n"
          ]
        }
      ],
      "source": [
        "    data = pd.read_csv('diabetes.csv')\n",
        "    print(\"\\nDataset Preview:\")\n",
        "    print(data.head())"
      ]
    },
    {
      "cell_type": "markdown",
      "id": "R6A7TqqzDxpw",
      "metadata": {
        "id": "R6A7TqqzDxpw"
      },
      "source": [
        "**Prepare Data**"
      ]
    },
    {
      "cell_type": "code",
      "execution_count": null,
      "id": "rCkNF093D1bo",
      "metadata": {
        "id": "rCkNF093D1bo"
      },
      "outputs": [],
      "source": [
        "    X = data.iloc[:, :-1]\n",
        "    y = data.iloc[:, -1]\n",
        "    X_train, X_test, y_train, y_test = train_test_split(X, y, test_size=0.3, random_state=30)"
      ]
    },
    {
      "cell_type": "markdown",
      "id": "5i8rtwydEK68",
      "metadata": {
        "id": "5i8rtwydEK68"
      },
      "source": [
        "**Train Naive Bayes Model**"
      ]
    },
    {
      "cell_type": "code",
      "execution_count": null,
      "id": "DbDHQo9uEM0h",
      "metadata": {
        "colab": {
          "base_uri": "https://localhost:8080/",
          "height": 80
        },
        "id": "DbDHQo9uEM0h",
        "outputId": "e7cb93c2-2180-48a0-82ec-5f45eced2eec"
      },
      "outputs": [
        {
          "data": {
            "text/html": [
              "<style>#sk-container-id-3 {\n",
              "  /* Definition of color scheme common for light and dark mode */\n",
              "  --sklearn-color-text: #000;\n",
              "  --sklearn-color-text-muted: #666;\n",
              "  --sklearn-color-line: gray;\n",
              "  /* Definition of color scheme for unfitted estimators */\n",
              "  --sklearn-color-unfitted-level-0: #fff5e6;\n",
              "  --sklearn-color-unfitted-level-1: #f6e4d2;\n",
              "  --sklearn-color-unfitted-level-2: #ffe0b3;\n",
              "  --sklearn-color-unfitted-level-3: chocolate;\n",
              "  /* Definition of color scheme for fitted estimators */\n",
              "  --sklearn-color-fitted-level-0: #f0f8ff;\n",
              "  --sklearn-color-fitted-level-1: #d4ebff;\n",
              "  --sklearn-color-fitted-level-2: #b3dbfd;\n",
              "  --sklearn-color-fitted-level-3: cornflowerblue;\n",
              "\n",
              "  /* Specific color for light theme */\n",
              "  --sklearn-color-text-on-default-background: var(--sg-text-color, var(--theme-code-foreground, var(--jp-content-font-color1, black)));\n",
              "  --sklearn-color-background: var(--sg-background-color, var(--theme-background, var(--jp-layout-color0, white)));\n",
              "  --sklearn-color-border-box: var(--sg-text-color, var(--theme-code-foreground, var(--jp-content-font-color1, black)));\n",
              "  --sklearn-color-icon: #696969;\n",
              "\n",
              "  @media (prefers-color-scheme: dark) {\n",
              "    /* Redefinition of color scheme for dark theme */\n",
              "    --sklearn-color-text-on-default-background: var(--sg-text-color, var(--theme-code-foreground, var(--jp-content-font-color1, white)));\n",
              "    --sklearn-color-background: var(--sg-background-color, var(--theme-background, var(--jp-layout-color0, #111)));\n",
              "    --sklearn-color-border-box: var(--sg-text-color, var(--theme-code-foreground, var(--jp-content-font-color1, white)));\n",
              "    --sklearn-color-icon: #878787;\n",
              "  }\n",
              "}\n",
              "\n",
              "#sk-container-id-3 {\n",
              "  color: var(--sklearn-color-text);\n",
              "}\n",
              "\n",
              "#sk-container-id-3 pre {\n",
              "  padding: 0;\n",
              "}\n",
              "\n",
              "#sk-container-id-3 input.sk-hidden--visually {\n",
              "  border: 0;\n",
              "  clip: rect(1px 1px 1px 1px);\n",
              "  clip: rect(1px, 1px, 1px, 1px);\n",
              "  height: 1px;\n",
              "  margin: -1px;\n",
              "  overflow: hidden;\n",
              "  padding: 0;\n",
              "  position: absolute;\n",
              "  width: 1px;\n",
              "}\n",
              "\n",
              "#sk-container-id-3 div.sk-dashed-wrapped {\n",
              "  border: 1px dashed var(--sklearn-color-line);\n",
              "  margin: 0 0.4em 0.5em 0.4em;\n",
              "  box-sizing: border-box;\n",
              "  padding-bottom: 0.4em;\n",
              "  background-color: var(--sklearn-color-background);\n",
              "}\n",
              "\n",
              "#sk-container-id-3 div.sk-container {\n",
              "  /* jupyter's `normalize.less` sets `[hidden] { display: none; }`\n",
              "     but bootstrap.min.css set `[hidden] { display: none !important; }`\n",
              "     so we also need the `!important` here to be able to override the\n",
              "     default hidden behavior on the sphinx rendered scikit-learn.org.\n",
              "     See: https://github.com/scikit-learn/scikit-learn/issues/21755 */\n",
              "  display: inline-block !important;\n",
              "  position: relative;\n",
              "}\n",
              "\n",
              "#sk-container-id-3 div.sk-text-repr-fallback {\n",
              "  display: none;\n",
              "}\n",
              "\n",
              "div.sk-parallel-item,\n",
              "div.sk-serial,\n",
              "div.sk-item {\n",
              "  /* draw centered vertical line to link estimators */\n",
              "  background-image: linear-gradient(var(--sklearn-color-text-on-default-background), var(--sklearn-color-text-on-default-background));\n",
              "  background-size: 2px 100%;\n",
              "  background-repeat: no-repeat;\n",
              "  background-position: center center;\n",
              "}\n",
              "\n",
              "/* Parallel-specific style estimator block */\n",
              "\n",
              "#sk-container-id-3 div.sk-parallel-item::after {\n",
              "  content: \"\";\n",
              "  width: 100%;\n",
              "  border-bottom: 2px solid var(--sklearn-color-text-on-default-background);\n",
              "  flex-grow: 1;\n",
              "}\n",
              "\n",
              "#sk-container-id-3 div.sk-parallel {\n",
              "  display: flex;\n",
              "  align-items: stretch;\n",
              "  justify-content: center;\n",
              "  background-color: var(--sklearn-color-background);\n",
              "  position: relative;\n",
              "}\n",
              "\n",
              "#sk-container-id-3 div.sk-parallel-item {\n",
              "  display: flex;\n",
              "  flex-direction: column;\n",
              "}\n",
              "\n",
              "#sk-container-id-3 div.sk-parallel-item:first-child::after {\n",
              "  align-self: flex-end;\n",
              "  width: 50%;\n",
              "}\n",
              "\n",
              "#sk-container-id-3 div.sk-parallel-item:last-child::after {\n",
              "  align-self: flex-start;\n",
              "  width: 50%;\n",
              "}\n",
              "\n",
              "#sk-container-id-3 div.sk-parallel-item:only-child::after {\n",
              "  width: 0;\n",
              "}\n",
              "\n",
              "/* Serial-specific style estimator block */\n",
              "\n",
              "#sk-container-id-3 div.sk-serial {\n",
              "  display: flex;\n",
              "  flex-direction: column;\n",
              "  align-items: center;\n",
              "  background-color: var(--sklearn-color-background);\n",
              "  padding-right: 1em;\n",
              "  padding-left: 1em;\n",
              "}\n",
              "\n",
              "\n",
              "/* Toggleable style: style used for estimator/Pipeline/ColumnTransformer box that is\n",
              "clickable and can be expanded/collapsed.\n",
              "- Pipeline and ColumnTransformer use this feature and define the default style\n",
              "- Estimators will overwrite some part of the style using the `sk-estimator` class\n",
              "*/\n",
              "\n",
              "/* Pipeline and ColumnTransformer style (default) */\n",
              "\n",
              "#sk-container-id-3 div.sk-toggleable {\n",
              "  /* Default theme specific background. It is overwritten whether we have a\n",
              "  specific estimator or a Pipeline/ColumnTransformer */\n",
              "  background-color: var(--sklearn-color-background);\n",
              "}\n",
              "\n",
              "/* Toggleable label */\n",
              "#sk-container-id-3 label.sk-toggleable__label {\n",
              "  cursor: pointer;\n",
              "  display: flex;\n",
              "  width: 100%;\n",
              "  margin-bottom: 0;\n",
              "  padding: 0.5em;\n",
              "  box-sizing: border-box;\n",
              "  text-align: center;\n",
              "  align-items: start;\n",
              "  justify-content: space-between;\n",
              "  gap: 0.5em;\n",
              "}\n",
              "\n",
              "#sk-container-id-3 label.sk-toggleable__label .caption {\n",
              "  font-size: 0.6rem;\n",
              "  font-weight: lighter;\n",
              "  color: var(--sklearn-color-text-muted);\n",
              "}\n",
              "\n",
              "#sk-container-id-3 label.sk-toggleable__label-arrow:before {\n",
              "  /* Arrow on the left of the label */\n",
              "  content: \"▸\";\n",
              "  float: left;\n",
              "  margin-right: 0.25em;\n",
              "  color: var(--sklearn-color-icon);\n",
              "}\n",
              "\n",
              "#sk-container-id-3 label.sk-toggleable__label-arrow:hover:before {\n",
              "  color: var(--sklearn-color-text);\n",
              "}\n",
              "\n",
              "/* Toggleable content - dropdown */\n",
              "\n",
              "#sk-container-id-3 div.sk-toggleable__content {\n",
              "  max-height: 0;\n",
              "  max-width: 0;\n",
              "  overflow: hidden;\n",
              "  text-align: left;\n",
              "  /* unfitted */\n",
              "  background-color: var(--sklearn-color-unfitted-level-0);\n",
              "}\n",
              "\n",
              "#sk-container-id-3 div.sk-toggleable__content.fitted {\n",
              "  /* fitted */\n",
              "  background-color: var(--sklearn-color-fitted-level-0);\n",
              "}\n",
              "\n",
              "#sk-container-id-3 div.sk-toggleable__content pre {\n",
              "  margin: 0.2em;\n",
              "  border-radius: 0.25em;\n",
              "  color: var(--sklearn-color-text);\n",
              "  /* unfitted */\n",
              "  background-color: var(--sklearn-color-unfitted-level-0);\n",
              "}\n",
              "\n",
              "#sk-container-id-3 div.sk-toggleable__content.fitted pre {\n",
              "  /* unfitted */\n",
              "  background-color: var(--sklearn-color-fitted-level-0);\n",
              "}\n",
              "\n",
              "#sk-container-id-3 input.sk-toggleable__control:checked~div.sk-toggleable__content {\n",
              "  /* Expand drop-down */\n",
              "  max-height: 200px;\n",
              "  max-width: 100%;\n",
              "  overflow: auto;\n",
              "}\n",
              "\n",
              "#sk-container-id-3 input.sk-toggleable__control:checked~label.sk-toggleable__label-arrow:before {\n",
              "  content: \"▾\";\n",
              "}\n",
              "\n",
              "/* Pipeline/ColumnTransformer-specific style */\n",
              "\n",
              "#sk-container-id-3 div.sk-label input.sk-toggleable__control:checked~label.sk-toggleable__label {\n",
              "  color: var(--sklearn-color-text);\n",
              "  background-color: var(--sklearn-color-unfitted-level-2);\n",
              "}\n",
              "\n",
              "#sk-container-id-3 div.sk-label.fitted input.sk-toggleable__control:checked~label.sk-toggleable__label {\n",
              "  background-color: var(--sklearn-color-fitted-level-2);\n",
              "}\n",
              "\n",
              "/* Estimator-specific style */\n",
              "\n",
              "/* Colorize estimator box */\n",
              "#sk-container-id-3 div.sk-estimator input.sk-toggleable__control:checked~label.sk-toggleable__label {\n",
              "  /* unfitted */\n",
              "  background-color: var(--sklearn-color-unfitted-level-2);\n",
              "}\n",
              "\n",
              "#sk-container-id-3 div.sk-estimator.fitted input.sk-toggleable__control:checked~label.sk-toggleable__label {\n",
              "  /* fitted */\n",
              "  background-color: var(--sklearn-color-fitted-level-2);\n",
              "}\n",
              "\n",
              "#sk-container-id-3 div.sk-label label.sk-toggleable__label,\n",
              "#sk-container-id-3 div.sk-label label {\n",
              "  /* The background is the default theme color */\n",
              "  color: var(--sklearn-color-text-on-default-background);\n",
              "}\n",
              "\n",
              "/* On hover, darken the color of the background */\n",
              "#sk-container-id-3 div.sk-label:hover label.sk-toggleable__label {\n",
              "  color: var(--sklearn-color-text);\n",
              "  background-color: var(--sklearn-color-unfitted-level-2);\n",
              "}\n",
              "\n",
              "/* Label box, darken color on hover, fitted */\n",
              "#sk-container-id-3 div.sk-label.fitted:hover label.sk-toggleable__label.fitted {\n",
              "  color: var(--sklearn-color-text);\n",
              "  background-color: var(--sklearn-color-fitted-level-2);\n",
              "}\n",
              "\n",
              "/* Estimator label */\n",
              "\n",
              "#sk-container-id-3 div.sk-label label {\n",
              "  font-family: monospace;\n",
              "  font-weight: bold;\n",
              "  display: inline-block;\n",
              "  line-height: 1.2em;\n",
              "}\n",
              "\n",
              "#sk-container-id-3 div.sk-label-container {\n",
              "  text-align: center;\n",
              "}\n",
              "\n",
              "/* Estimator-specific */\n",
              "#sk-container-id-3 div.sk-estimator {\n",
              "  font-family: monospace;\n",
              "  border: 1px dotted var(--sklearn-color-border-box);\n",
              "  border-radius: 0.25em;\n",
              "  box-sizing: border-box;\n",
              "  margin-bottom: 0.5em;\n",
              "  /* unfitted */\n",
              "  background-color: var(--sklearn-color-unfitted-level-0);\n",
              "}\n",
              "\n",
              "#sk-container-id-3 div.sk-estimator.fitted {\n",
              "  /* fitted */\n",
              "  background-color: var(--sklearn-color-fitted-level-0);\n",
              "}\n",
              "\n",
              "/* on hover */\n",
              "#sk-container-id-3 div.sk-estimator:hover {\n",
              "  /* unfitted */\n",
              "  background-color: var(--sklearn-color-unfitted-level-2);\n",
              "}\n",
              "\n",
              "#sk-container-id-3 div.sk-estimator.fitted:hover {\n",
              "  /* fitted */\n",
              "  background-color: var(--sklearn-color-fitted-level-2);\n",
              "}\n",
              "\n",
              "/* Specification for estimator info (e.g. \"i\" and \"?\") */\n",
              "\n",
              "/* Common style for \"i\" and \"?\" */\n",
              "\n",
              ".sk-estimator-doc-link,\n",
              "a:link.sk-estimator-doc-link,\n",
              "a:visited.sk-estimator-doc-link {\n",
              "  float: right;\n",
              "  font-size: smaller;\n",
              "  line-height: 1em;\n",
              "  font-family: monospace;\n",
              "  background-color: var(--sklearn-color-background);\n",
              "  border-radius: 1em;\n",
              "  height: 1em;\n",
              "  width: 1em;\n",
              "  text-decoration: none !important;\n",
              "  margin-left: 0.5em;\n",
              "  text-align: center;\n",
              "  /* unfitted */\n",
              "  border: var(--sklearn-color-unfitted-level-1) 1pt solid;\n",
              "  color: var(--sklearn-color-unfitted-level-1);\n",
              "}\n",
              "\n",
              ".sk-estimator-doc-link.fitted,\n",
              "a:link.sk-estimator-doc-link.fitted,\n",
              "a:visited.sk-estimator-doc-link.fitted {\n",
              "  /* fitted */\n",
              "  border: var(--sklearn-color-fitted-level-1) 1pt solid;\n",
              "  color: var(--sklearn-color-fitted-level-1);\n",
              "}\n",
              "\n",
              "/* On hover */\n",
              "div.sk-estimator:hover .sk-estimator-doc-link:hover,\n",
              ".sk-estimator-doc-link:hover,\n",
              "div.sk-label-container:hover .sk-estimator-doc-link:hover,\n",
              ".sk-estimator-doc-link:hover {\n",
              "  /* unfitted */\n",
              "  background-color: var(--sklearn-color-unfitted-level-3);\n",
              "  color: var(--sklearn-color-background);\n",
              "  text-decoration: none;\n",
              "}\n",
              "\n",
              "div.sk-estimator.fitted:hover .sk-estimator-doc-link.fitted:hover,\n",
              ".sk-estimator-doc-link.fitted:hover,\n",
              "div.sk-label-container:hover .sk-estimator-doc-link.fitted:hover,\n",
              ".sk-estimator-doc-link.fitted:hover {\n",
              "  /* fitted */\n",
              "  background-color: var(--sklearn-color-fitted-level-3);\n",
              "  color: var(--sklearn-color-background);\n",
              "  text-decoration: none;\n",
              "}\n",
              "\n",
              "/* Span, style for the box shown on hovering the info icon */\n",
              ".sk-estimator-doc-link span {\n",
              "  display: none;\n",
              "  z-index: 9999;\n",
              "  position: relative;\n",
              "  font-weight: normal;\n",
              "  right: .2ex;\n",
              "  padding: .5ex;\n",
              "  margin: .5ex;\n",
              "  width: min-content;\n",
              "  min-width: 20ex;\n",
              "  max-width: 50ex;\n",
              "  color: var(--sklearn-color-text);\n",
              "  box-shadow: 2pt 2pt 4pt #999;\n",
              "  /* unfitted */\n",
              "  background: var(--sklearn-color-unfitted-level-0);\n",
              "  border: .5pt solid var(--sklearn-color-unfitted-level-3);\n",
              "}\n",
              "\n",
              ".sk-estimator-doc-link.fitted span {\n",
              "  /* fitted */\n",
              "  background: var(--sklearn-color-fitted-level-0);\n",
              "  border: var(--sklearn-color-fitted-level-3);\n",
              "}\n",
              "\n",
              ".sk-estimator-doc-link:hover span {\n",
              "  display: block;\n",
              "}\n",
              "\n",
              "/* \"?\"-specific style due to the `<a>` HTML tag */\n",
              "\n",
              "#sk-container-id-3 a.estimator_doc_link {\n",
              "  float: right;\n",
              "  font-size: 1rem;\n",
              "  line-height: 1em;\n",
              "  font-family: monospace;\n",
              "  background-color: var(--sklearn-color-background);\n",
              "  border-radius: 1rem;\n",
              "  height: 1rem;\n",
              "  width: 1rem;\n",
              "  text-decoration: none;\n",
              "  /* unfitted */\n",
              "  color: var(--sklearn-color-unfitted-level-1);\n",
              "  border: var(--sklearn-color-unfitted-level-1) 1pt solid;\n",
              "}\n",
              "\n",
              "#sk-container-id-3 a.estimator_doc_link.fitted {\n",
              "  /* fitted */\n",
              "  border: var(--sklearn-color-fitted-level-1) 1pt solid;\n",
              "  color: var(--sklearn-color-fitted-level-1);\n",
              "}\n",
              "\n",
              "/* On hover */\n",
              "#sk-container-id-3 a.estimator_doc_link:hover {\n",
              "  /* unfitted */\n",
              "  background-color: var(--sklearn-color-unfitted-level-3);\n",
              "  color: var(--sklearn-color-background);\n",
              "  text-decoration: none;\n",
              "}\n",
              "\n",
              "#sk-container-id-3 a.estimator_doc_link.fitted:hover {\n",
              "  /* fitted */\n",
              "  background-color: var(--sklearn-color-fitted-level-3);\n",
              "}\n",
              "</style><div id=\"sk-container-id-3\" class=\"sk-top-container\"><div class=\"sk-text-repr-fallback\"><pre>GaussianNB()</pre><b>In a Jupyter environment, please rerun this cell to show the HTML representation or trust the notebook. <br />On GitHub, the HTML representation is unable to render, please try loading this page with nbviewer.org.</b></div><div class=\"sk-container\" hidden><div class=\"sk-item\"><div class=\"sk-estimator fitted sk-toggleable\"><input class=\"sk-toggleable__control sk-hidden--visually\" id=\"sk-estimator-id-3\" type=\"checkbox\" checked><label for=\"sk-estimator-id-3\" class=\"sk-toggleable__label fitted sk-toggleable__label-arrow\"><div><div>GaussianNB</div></div><div><a class=\"sk-estimator-doc-link fitted\" rel=\"noreferrer\" target=\"_blank\" href=\"https://scikit-learn.org/1.6/modules/generated/sklearn.naive_bayes.GaussianNB.html\">?<span>Documentation for GaussianNB</span></a><span class=\"sk-estimator-doc-link fitted\">i<span>Fitted</span></span></div></label><div class=\"sk-toggleable__content fitted\"><pre>GaussianNB()</pre></div> </div></div></div></div>"
            ],
            "text/plain": [
              "GaussianNB()"
            ]
          },
          "execution_count": 42,
          "metadata": {},
          "output_type": "execute_result"
        }
      ],
      "source": [
        "    model = GaussianNB()\n",
        "    model.fit(X_train, y_train)"
      ]
    },
    {
      "cell_type": "markdown",
      "id": "D3iXlSA0EP_b",
      "metadata": {
        "id": "D3iXlSA0EP_b"
      },
      "source": [
        "**Confusion Matrix**"
      ]
    },
    {
      "cell_type": "code",
      "execution_count": null,
      "id": "URZFddwdEUQx",
      "metadata": {
        "colab": {
          "base_uri": "https://localhost:8080/"
        },
        "id": "URZFddwdEUQx",
        "outputId": "412eb24f-9580-4056-b15f-440810358bfc"
      },
      "outputs": [
        {
          "name": "stdout",
          "output_type": "stream",
          "text": [
            "\n",
            " Confusion Matrix:\n",
            "[[133  26]\n",
            " [ 28  44]]\n"
          ]
        }
      ],
      "source": [
        "    y_pred = model.predict(X_test)\n",
        "    cm = confusion_matrix(y_test, y_pred)\n",
        "    print(\"\\n Confusion Matrix:\")\n",
        "    print(cm)\n"
      ]
    },
    {
      "cell_type": "markdown",
      "id": "yzAs8pwaEXrB",
      "metadata": {
        "id": "yzAs8pwaEXrB"
      },
      "source": [
        "**Accuracy and Error Rates**"
      ]
    },
    {
      "cell_type": "code",
      "execution_count": null,
      "id": "y0LgCs9QEaHx",
      "metadata": {
        "colab": {
          "base_uri": "https://localhost:8080/"
        },
        "id": "y0LgCs9QEaHx",
        "outputId": "a423a6ee-f98a-4833-8317-0e5c35acab86"
      },
      "outputs": [
        {
          "name": "stdout",
          "output_type": "stream",
          "text": [
            "\n",
            " Accuracy: 76.62%\n",
            "\n",
            "Training Accuracy: {:.2f}\n",
            "Test Accuracy: 0.76\n",
            "\n",
            "Error Rates:\n",
            "False Positive Rate (FPR): 0.1635, False Negative Rate (FNR): 0.3889\n",
            "True Positive Rate (TPR): 0.6111, True Negative Rate (TNR): 0.8365\n"
          ]
        }
      ],
      "source": [
        "    accuracy = accuracy_score(y_test, y_pred)\n",
        "    print(\"\\n Accuracy: {:.2f}%\".format(accuracy * 100))\n",
        "\n",
        "    acc_train = accuracy_score(y_train, model.predict(X_train))\n",
        "    acc_test = model.score(X_test, y_test)\n",
        "    print(\"\\nTraining Accuracy: {:.2f}\")\n",
        "    print(\"Test Accuracy: {:.2f}\".format(acc_train, acc_test))\n",
        "\n",
        "    TN, FP, FN, TP = cm.ravel()\n",
        "    FPR = FP / (FP + TN)\n",
        "    FNR = FN / (FN + TP)\n",
        "    TPR = TP / (TP + FN)\n",
        "    TNR = TN / (TN + FP)\n",
        "    print(\"\\nError Rates:\")\n",
        "    print(f\"False Positive Rate (FPR): {FPR:.4f}, False Negative Rate (FNR): {FNR:.4f}\")\n",
        "    print(f\"True Positive Rate (TPR): {TPR:.4f}, True Negative Rate (TNR): {TNR:.4f}\")\n"
      ]
    },
    {
      "cell_type": "markdown",
      "id": "sjopIw3_EbJk",
      "metadata": {
        "id": "sjopIw3_EbJk"
      },
      "source": [
        "**Model Performance Metrics**"
      ]
    },
    {
      "cell_type": "code",
      "execution_count": null,
      "id": "iEC4RATREdwZ",
      "metadata": {
        "colab": {
          "base_uri": "https://localhost:8080/"
        },
        "id": "iEC4RATREdwZ",
        "outputId": "2cf177d3-9fcc-4b89-d9a0-d53febf5255b"
      },
      "outputs": [
        {
          "name": "stdout",
          "output_type": "stream",
          "text": [
            "\n",
            " Classification Report:\n",
            "              precision    recall  f1-score   support\n",
            "\n",
            "           0       0.83      0.84      0.83       159\n",
            "           1       0.63      0.61      0.62        72\n",
            "\n",
            "    accuracy                           0.77       231\n",
            "   macro avg       0.73      0.72      0.73       231\n",
            "weighted avg       0.76      0.77      0.77       231\n",
            "\n",
            "\n",
            " Regression Metrics:\n",
            "MAE: 0.2338, RMSE: 0.4835\n"
          ]
        }
      ],
      "source": [
        "    print(\"\\n Classification Report:\")\n",
        "    print(classification_report(y_test, y_pred))\n",
        "\n",
        "    mae = mean_absolute_error(y_test, y_pred)\n",
        "    mse = mean_squared_error(y_test, y_pred)\n",
        "    rmse = np.sqrt(mse)\n",
        "    print(\"\\n Regression Metrics:\")\n",
        "    print(f\"MAE: {mae:.4f}, RMSE: {rmse:.4f}\")\n"
      ]
    },
    {
      "cell_type": "markdown",
      "id": "wA1mHWJQEiBh",
      "metadata": {
        "id": "wA1mHWJQEiBh"
      },
      "source": [
        "**Advanced Metrics**"
      ]
    },
    {
      "cell_type": "code",
      "execution_count": null,
      "id": "PDsfFdVAEmC9",
      "metadata": {
        "colab": {
          "base_uri": "https://localhost:8080/"
        },
        "id": "PDsfFdVAEmC9",
        "outputId": "ad4b55eb-b324-4cba-9827-6a95aa14ebb2"
      },
      "outputs": [
        {
          "name": "stdout",
          "output_type": "stream",
          "text": [
            "\n",
            "Advanced Metrics:\n",
            "MCC: 0.4511, ROC AUC: 0.8201, PRC AUC: 0.6619\n"
          ]
        }
      ],
      "source": [
        "    y_pred_prob = model.predict_proba(X_test)[:, 1]\n",
        "    mcc = matthews_corrcoef(y_test, np.round(y_pred_prob))\n",
        "\n",
        "    fpr, tpr, _ = roc_curve(y_test, y_pred_prob)\n",
        "    roc_auc = auc(fpr, tpr)\n",
        "\n",
        "    precision, recall, _ = precision_recall_curve(y_test, y_pred_prob)\n",
        "    prc_auc = auc(recall, precision)\n",
        "\n",
        "    print(\"\\nAdvanced Metrics:\")\n",
        "    print(f\"MCC: {mcc:.4f}, ROC AUC: {roc_auc:.4f}, PRC AUC: {prc_auc:.4f}\")\n"
      ]
    },
    {
      "cell_type": "markdown",
      "id": "zpjCoLauEot5",
      "metadata": {
        "id": "zpjCoLauEot5"
      },
      "source": [
        "**Plot ROC & PRC Curves**"
      ]
    },
    {
      "cell_type": "code",
      "execution_count": null,
      "id": "_KkpkhgWEr0E",
      "metadata": {
        "colab": {
          "base_uri": "https://localhost:8080/",
          "height": 527
        },
        "id": "_KkpkhgWEr0E",
        "outputId": "18b198b8-51af-45c5-fcdb-3f9a63af567a"
      },
      "outputs": [
        {
          "data": {
            "image/png": "[encoded data removed]",
            "text/plain": [
              "<Figure size 1200x500 with 2 Axes>"
            ]
          },
          "metadata": {},
          "output_type": "display_data"
        }
      ],
      "source": [
        "    plt.figure(figsize=(12, 5))\n",
        "\n",
        "    # ROC Curve\n",
        "    plt.subplot(1, 2, 1)\n",
        "    plt.plot(fpr, tpr, color='darkorange', lw=2, label=f'ROC curve (area = {roc_auc:.2f})')\n",
        "    plt.plot([0, 1], [0, 1], color='navy', lw=2, linestyle='--')\n",
        "    plt.xlim([0.0, 1.0])\n",
        "    plt.ylim([0.0, 1.05])\n",
        "    plt.xlabel('False Positive Rate')\n",
        "    plt.ylabel('True Positive Rate')\n",
        "    plt.title('ROC Curve (Naive Bayes)')\n",
        "    plt.legend(loc=\"lower right\")\n",
        "\n",
        "    # PRC Curve\n",
        "    plt.subplot(1, 2, 2)\n",
        "    plt.plot(recall, precision, color='darkgreen', lw=2, label=f'PRC curve (area = {prc_auc:.2f})')\n",
        "    plt.xlim([0.0, 1.0])\n",
        "    plt.ylim([0.0, 1.05])\n",
        "    plt.xlabel('Recall')\n",
        "    plt.ylabel('Precision')\n",
        "    plt.title('Precision-Recall Curve')\n",
        "    plt.legend(loc=\"lower right\")\n",
        "\n",
        "    plt.tight_layout()\n",
        "    plt.savefig(\"naive_bayes_performance_curves.jpg\")\n",
        "    plt.show()\n"
      ]
    },
    {
      "cell_type": "markdown",
      "id": "rVzviKOgFJcQ",
      "metadata": {
        "id": "rVzviKOgFJcQ"
      },
      "source": [
        "# **Random Forest classification**"
      ]
    },
    {
      "cell_type": "markdown",
      "id": "rl1-3LbaGCph",
      "metadata": {
        "id": "rl1-3LbaGCph"
      },
      "source": [
        "**Imports**"
      ]
    },
    {
      "cell_type": "code",
      "execution_count": null,
      "id": "fxfUg2iZGE-J",
      "metadata": {
        "id": "fxfUg2iZGE-J"
      },
      "outputs": [],
      "source": [
        "import pandas as pd\n",
        "import numpy as np\n",
        "import matplotlib.pyplot as plt\n",
        "from sklearn.model_selection import train_test_split\n",
        "from sklearn.ensemble import RandomForestClassifier\n",
        "from sklearn.metrics import (accuracy_score, confusion_matrix, classification_report,\n",
        "                             mean_absolute_error, mean_squared_error, matthews_corrcoef,\n",
        "                             roc_curve, precision_recall_curve, auc)"
      ]
    },
    {
      "cell_type": "markdown",
      "id": "KU9VVfAkGK3a",
      "metadata": {
        "id": "KU9VVfAkGK3a"
      },
      "source": [
        "**Load and Prepare Dataset**"
      ]
    },
    {
      "cell_type": "code",
      "execution_count": null,
      "id": "ZCGAVSNKGNcb",
      "metadata": {
        "colab": {
          "base_uri": "https://localhost:8080/"
        },
        "id": "ZCGAVSNKGNcb",
        "outputId": "363612de-c6f0-4341-d915-cedb4e2f3e2f"
      },
      "outputs": [
        {
          "name": "stdout",
          "output_type": "stream",
          "text": [
            "\n",
            "Dataset head:\n",
            "   Pregnancies  Glucose  BloodPressure  SkinThickness  Insulin   BMI  \\\n",
            "0            6      148             72             35        0  33.6   \n",
            "1            1       85             66             29        0  26.6   \n",
            "2            8      183             64              0        0  23.3   \n",
            "3            1       89             66             23       94  28.1   \n",
            "4            0      137             40             35      168  43.1   \n",
            "\n",
            "   DiabetesPedigreeFunction  Age  Outcome  \n",
            "0                     0.627   50        1  \n",
            "1                     0.351   31        0  \n",
            "2                     0.672   32        1  \n",
            "3                     0.167   21        0  \n",
            "4                     2.288   33        1  \n"
          ]
        }
      ],
      "source": [
        "data = pd.read_csv('diabetes.csv')\n",
        "print(\"\\nDataset head:\")\n",
        "print(data.head())\n",
        "\n",
        "X = data.iloc[:, :-1]\n",
        "y = data.iloc[:, -1]\n",
        "X_train, X_test, y_train, y_test = train_test_split(X, y, test_size=0.3, random_state=30)\n"
      ]
    },
    {
      "cell_type": "markdown",
      "id": "V72gvRNsGPhE",
      "metadata": {
        "id": "V72gvRNsGPhE"
      },
      "source": [
        "**Train Random Forest Classifier**"
      ]
    },
    {
      "cell_type": "code",
      "execution_count": null,
      "id": "6cdD3ginGSSJ",
      "metadata": {
        "id": "6cdD3ginGSSJ"
      },
      "outputs": [],
      "source": [
        "rf_classifier = RandomForestClassifier(n_estimators=100, random_state=30)\n",
        "rf_classifier.fit(X_train, y_train)\n",
        "y_pred = rf_classifier.predict(X_test)"
      ]
    },
    {
      "cell_type": "markdown",
      "id": "QgSkQxWvGVvh",
      "metadata": {
        "id": "QgSkQxWvGVvh"
      },
      "source": [
        "**Evaluate Model Accuracy and Errors**"
      ]
    },
    {
      "cell_type": "code",
      "execution_count": null,
      "id": "CTd9-9nSGXLA",
      "metadata": {
        "colab": {
          "base_uri": "https://localhost:8080/"
        },
        "id": "CTd9-9nSGXLA",
        "outputId": "21a9c839-a0d0-4998-cbbb-ec52e278d8f7"
      },
      "outputs": [
        {
          "name": "stdout",
          "output_type": "stream",
          "text": [
            "\n",
            "Model Accuracy: 78.79%\n",
            "Confusion Matrix:\n",
            " [[138  21]\n",
            " [ 28  44]]\n",
            "\n",
            "Scaled Confusion Matrix (230 instances):\n",
            " [[137.4025974   20.90909091]\n",
            " [ 27.87878788  43.80952381]]\n",
            "\n",
            "Training Accuracy: 1.00\n",
            "Test Accuracy: 0.79\n",
            "\n",
            "Error Rates:\n",
            "FPR: 0.1321, FNR: 0.3889, TPR: 0.6111, TNR: 0.8679\n"
          ]
        }
      ],
      "source": [
        "cm = confusion_matrix(y_test, y_pred)\n",
        "accuracy = accuracy_score(y_test, y_pred)\n",
        "print(\"\\nModel Accuracy: {:.2f}%\".format(accuracy*100))\n",
        "print(\"Confusion Matrix:\\n\", cm)\n",
        "\n",
        "# Scaled confusion matrix to 230 instances\n",
        "scaling_factor = 230 / np.sum(cm)\n",
        "scaled_cm = cm * scaling_factor\n",
        "print(\"\\nScaled Confusion Matrix (230 instances):\\n\", scaled_cm)\n",
        "\n",
        "acc_train = accuracy_score(y_train, rf_classifier.predict(X_train))\n",
        "acc_test = rf_classifier.score(X_test, y_test)\n",
        "print(\"\\nTraining Accuracy: {:.2f}\".format(acc_train))\n",
        "print(\"Test Accuracy: {:.2f}\".format(acc_test))\n",
        "\n",
        "# Error rates\n",
        "TN, FP, FN, TP = cm.ravel()\n",
        "FPR = FP / (FP + TN)\n",
        "FNR = FN / (FN + TP)\n",
        "TPR = TP / (TP + FN)\n",
        "TNR = TN / (TN + FP)\n",
        "print(\"\\nError Rates:\")\n",
        "print(\"FPR: {:.4f}, FNR: {:.4f}, TPR: {:.4f}, TNR: {:.4f}\".format(FPR, FNR, TPR, TNR))\n"
      ]
    },
    {
      "cell_type": "markdown",
      "id": "Ul97KhItGa4F",
      "metadata": {
        "id": "Ul97KhItGa4F"
      },
      "source": [
        "**Metrics and Reports**"
      ]
    },
    {
      "cell_type": "code",
      "execution_count": null,
      "id": "1CRtmUxkGcBk",
      "metadata": {
        "colab": {
          "base_uri": "https://localhost:8080/"
        },
        "id": "1CRtmUxkGcBk",
        "outputId": "021a24b3-4eb7-43ed-c4f7-bd4c86149f2b"
      },
      "outputs": [
        {
          "name": "stdout",
          "output_type": "stream",
          "text": [
            "\n",
            "Classification Report:\n",
            "              precision    recall  f1-score   support\n",
            "\n",
            "           0       0.83      0.87      0.85       159\n",
            "           1       0.68      0.61      0.64        72\n",
            "\n",
            "    accuracy                           0.79       231\n",
            "   macro avg       0.75      0.74      0.75       231\n",
            "weighted avg       0.78      0.79      0.78       231\n",
            "\n",
            "\n",
            "Regression Metrics:\n",
            "MAE: 0.2121, RMSE: 0.4606\n",
            "\n",
            "Advanced Metrics:\n",
            "MCC: 0.4934, ROC AUC: 0.8280, PRC AUC: 0.7070\n"
          ]
        }
      ],
      "source": [
        "print(\"\\nClassification Report:\")\n",
        "print(classification_report(y_test, y_pred))\n",
        "\n",
        "mae = mean_absolute_error(y_test, y_pred)\n",
        "mse = mean_squared_error(y_test, y_pred)\n",
        "rmse = np.sqrt(mse)\n",
        "print(\"\\nRegression Metrics:\")\n",
        "print(\"MAE: {:.4f}, RMSE: {:.4f}\".format(mae, rmse))\n",
        "\n",
        "y_pred_prob = rf_classifier.predict_proba(X_test)[:, 1]\n",
        "mcc = matthews_corrcoef(y_test, np.round(y_pred_prob))\n",
        "fpr, tpr, _ = roc_curve(y_test, y_pred_prob)\n",
        "precision, recall, _ = precision_recall_curve(y_test, y_pred_prob)\n",
        "roc_auc = auc(fpr, tpr)\n",
        "prc_auc = auc(recall, precision)\n",
        "\n",
        "print(\"\\nAdvanced Metrics:\")\n",
        "print(\"MCC: {:.4f}, ROC AUC: {:.4f}, PRC AUC: {:.4f}\".format(mcc, roc_auc, prc_auc))\n"
      ]
    },
    {
      "cell_type": "markdown",
      "id": "fkLxMGMPGepA",
      "metadata": {
        "id": "fkLxMGMPGepA"
      },
      "source": [
        "**Visualizations**"
      ]
    },
    {
      "cell_type": "code",
      "execution_count": null,
      "id": "y90as7ijGeUL",
      "metadata": {
        "colab": {
          "base_uri": "https://localhost:8080/",
          "height": 1000
        },
        "id": "y90as7ijGeUL",
        "outputId": "399c9c57-e4cc-48dd-fcbb-6fde3bece6ad"
      },
      "outputs": [
        {
          "data": {
            "image/png": "[encoded data removed]",
            "text/plain": [
              "<Figure size 1000x600 with 1 Axes>"
            ]
          },
          "metadata": {},
          "output_type": "display_data"
        },
        {
          "data": {
            "image/png": "[encoded data removed]",
            "text/plain": [
              "<Figure size 1200x500 with 2 Axes>"
            ]
          },
          "metadata": {},
          "output_type": "display_data"
        }
      ],
      "source": [
        "# Feature Importance\n",
        "plt.figure(figsize=(10, 6))\n",
        "importances = rf_classifier.feature_importances_\n",
        "features = X.columns\n",
        "indices = np.argsort(importances)[::-1]\n",
        "plt.title(\"Feature Importance\")\n",
        "plt.bar(range(X.shape[1]), importances[indices], align='center')\n",
        "plt.xticks(range(X.shape[1]), features[indices], rotation=90)\n",
        "plt.tight_layout()\n",
        "plt.savefig(\"random_forest_feature_importance.jpg\")\n",
        "plt.show()\n",
        "\n",
        "# ROC and PRC Curves\n",
        "plt.figure(figsize=(12, 5))\n",
        "\n",
        "plt.subplot(1, 2, 1)\n",
        "plt.plot(fpr, tpr, color='darkorange', lw=2, label='ROC curve (area = %0.2f)' % roc_auc)\n",
        "plt.plot([0, 1], [0, 1], color='navy', lw=2, linestyle='--')\n",
        "plt.xlabel('False Positive Rate')\n",
        "plt.ylabel('True Positive Rate')\n",
        "plt.title('ROC Curve (Random Forest)')\n",
        "plt.legend(loc=\"lower right\")\n",
        "\n",
        "plt.subplot(1, 2, 2)\n",
        "plt.plot(recall, precision, color='darkgreen', lw=2, label='PRC curve (area = %0.2f)' % prc_auc)\n",
        "plt.xlabel('Recall')\n",
        "plt.ylabel('Precision')\n",
        "plt.title('Precision-Recall Curve')\n",
        "plt.legend(loc=\"lower right\")\n",
        "\n",
        "plt.tight_layout()\n",
        "plt.savefig(\"random_forest_performance_curves.jpg\")\n",
        "plt.show()\n"
      ]
    },
    {
      "cell_type": "markdown",
      "id": "F2c-Rj0yGnuN",
      "metadata": {
        "id": "F2c-Rj0yGnuN"
      },
      "source": [
        "**Weighted & Class-Specific Rates**"
      ]
    },
    {
      "cell_type": "code",
      "execution_count": null,
      "id": "73g4nANnGo2Q",
      "metadata": {
        "colab": {
          "base_uri": "https://localhost:8080/"
        },
        "id": "73g4nANnGo2Q",
        "outputId": "a2be794b-1554-4584-a947-ac37a75a99b1"
      },
      "outputs": [
        {
          "name": "stdout",
          "output_type": "stream",
          "text": [
            "\n",
            "Weighted Rates:\n",
            "Weighted TP Rate: 0.5238, Weighted FP Rate: 0.0437\n",
            "\n",
            "Class-specific Rates:\n",
            "Class 0 - TP Rate: 0.6111, FP Rate: 0.1321\n",
            "Class 1 - TP Rate: 0.8679, FP Rate: 0.3889\n"
          ]
        }
      ],
      "source": [
        "# Weighted\n",
        "weighted_tp = TP * 0.7\n",
        "weighted_fp = FP * 0.3\n",
        "weighted_tp_rate = weighted_tp / (weighted_tp + FN)\n",
        "weighted_fp_rate = weighted_fp / (weighted_fp + TN)\n",
        "print(\"\\nWeighted Rates:\")\n",
        "print(\"Weighted TP Rate: {:.4f}, Weighted FP Rate: {:.4f}\".format(weighted_tp_rate, weighted_fp_rate))\n",
        "\n",
        "# Class-specific\n",
        "tn0, fp0, fn0, tp0 = cm.ravel()\n",
        "tn1, fp1, fn1, tp1 = cm.ravel()[::-1]\n",
        "tp_rate0 = tp0 / (tp0 + fn0)\n",
        "fp_rate0 = fp0 / (fp0 + tn0)\n",
        "tp_rate1 = tp1 / (tp1 + fn1)\n",
        "fp_rate1 = fp1 / (fp1 + tn1)\n",
        "print(\"\\nClass-specific Rates:\")\n",
        "print(\"Class 0 - TP Rate: {:.4f}, FP Rate: {:.4f}\".format(tp_rate0, fp_rate0))\n",
        "print(\"Class 1 - TP Rate: {:.4f}, FP Rate: {:.4f}\".format(tp_rate1, fp_rate1))\n"
      ]
    },
    {
      "cell_type": "markdown",
      "id": "d6dP0UmMGtH1",
      "metadata": {
        "id": "d6dP0UmMGtH1"
      },
      "source": [
        "**Average Performance**"
      ]
    },
    {
      "cell_type": "code",
      "execution_count": null,
      "id": "RuWSms1IGxb4",
      "metadata": {
        "colab": {
          "base_uri": "https://localhost:8080/"
        },
        "id": "RuWSms1IGxb4",
        "outputId": "0e3e41d0-f8ef-485f-dd92-eb67fe4690fe"
      },
      "outputs": [
        {
          "name": "stdout",
          "output_type": "stream",
          "text": [
            "\n",
            "Average Rates:\n",
            "Average TP Rate: 0.7395\n",
            "Average FP Rate: 0.2605\n"
          ]
        }
      ],
      "source": [
        "avg_tp_rate = (tp_rate0 + tp_rate1) / 2\n",
        "avg_fp_rate = (fp_rate0 + fp_rate1) / 2\n",
        "print(\"\\nAverage Rates:\")\n",
        "print(\"Average TP Rate: {:.4f}\".format(avg_tp_rate))\n",
        "print(\"Average FP Rate: {:.4f}\".format(avg_fp_rate))\n"
      ]
    },
    {
      "cell_type": "markdown",
      "id": "JY71d9idG6gQ",
      "metadata": {
        "id": "JY71d9idG6gQ"
      },
      "source": [
        "# **Support Vector Machine**"
      ]
    },
    {
      "cell_type": "markdown",
      "id": "7TyftnbYHI3w",
      "metadata": {
        "id": "7TyftnbYHI3w"
      },
      "source": [
        "**Imports**"
      ]
    },
    {
      "cell_type": "code",
      "execution_count": null,
      "id": "2w1j7zc_HK6w",
      "metadata": {
        "id": "2w1j7zc_HK6w"
      },
      "outputs": [],
      "source": [
        "import pandas as pd\n",
        "import numpy as np\n",
        "from sklearn.model_selection import train_test_split\n",
        "from sklearn.svm import SVC\n",
        "from sklearn.metrics import (\n",
        "    confusion_matrix,\n",
        "    accuracy_score,\n",
        "    classification_report,\n",
        "    mean_absolute_error,\n",
        "    mean_squared_error,\n",
        "    matthews_corrcoef,\n",
        "    roc_curve,\n",
        "    precision_recall_curve,\n",
        "    auc,\n",
        ")\n",
        "import matplotlib.pyplot as plt\n"
      ]
    },
    {
      "cell_type": "markdown",
      "id": "tUbigl7LHM7y",
      "metadata": {
        "id": "tUbigl7LHM7y"
      },
      "source": [
        "**Load and Prepare the Dataset**"
      ]
    },
    {
      "cell_type": "code",
      "execution_count": null,
      "id": "wfbXA1zWHPYq",
      "metadata": {
        "id": "wfbXA1zWHPYq"
      },
      "outputs": [],
      "source": [
        "# Load the dataset\n",
        "data = pd.read_csv('diabetes.csv')  # Replace with actual dataset path\n",
        "\n",
        "# Split dataset into features and target\n",
        "X = data.drop('Outcome', axis=1)\n",
        "y = data['Outcome']\n",
        "\n",
        "# Train-test split\n",
        "X_train, X_test, y_train, y_test = train_test_split(X, y, test_size=0.3, random_state=30)\n"
      ]
    },
    {
      "cell_type": "markdown",
      "id": "-Vd9lh-tHRGK",
      "metadata": {
        "id": "-Vd9lh-tHRGK"
      },
      "source": [
        "**Train SVM Model and Make Predictions**"
      ]
    },
    {
      "cell_type": "code",
      "execution_count": null,
      "id": "HB2wY7sRHRMz",
      "metadata": {
        "id": "HB2wY7sRHRMz"
      },
      "outputs": [],
      "source": [
        "# Train initial SVM model with linear kernel\n",
        "svm_model = SVC(kernel='linear')\n",
        "svm_model.fit(X_train, y_train)\n",
        "\n",
        "# Predict on test set\n",
        "y_pred = svm_model.predict(X_test)\n"
      ]
    },
    {
      "cell_type": "markdown",
      "id": "l1-GVSBGHZk8",
      "metadata": {
        "id": "l1-GVSBGHZk8"
      },
      "source": [
        "**Basic Evaluation Metrics**"
      ]
    },
    {
      "cell_type": "code",
      "execution_count": null,
      "id": "dCfENR09HZuS",
      "metadata": {
        "colab": {
          "base_uri": "https://localhost:8080/"
        },
        "id": "dCfENR09HZuS",
        "outputId": "532d14d9-eecc-42f2-a3f4-b7c0fa8c6347"
      },
      "outputs": [
        {
          "name": "stdout",
          "output_type": "stream",
          "text": [
            "Accuracy: 0.7922077922077922\n",
            "Accuracy (%): 79.22077922077922\n",
            "Classification Report:\n",
            "               precision    recall  f1-score   support\n",
            "\n",
            "           0       0.83      0.87      0.85       159\n",
            "           1       0.69      0.61      0.65        72\n",
            "\n",
            "    accuracy                           0.79       231\n",
            "   macro avg       0.76      0.74      0.75       231\n",
            "weighted avg       0.79      0.79      0.79       231\n",
            "\n",
            "Confusion Matrix:\n",
            " [[139  20]\n",
            " [ 28  44]]\n"
          ]
        }
      ],
      "source": [
        "# Accuracy and classification report\n",
        "accuracy = accuracy_score(y_test, y_pred)\n",
        "print(\"Accuracy:\", accuracy)\n",
        "print(\"Accuracy (%):\", accuracy * 100)\n",
        "print(\"Classification Report:\\n\", classification_report(y_test, y_pred))\n",
        "\n",
        "# Confusion Matrix\n",
        "conf_matrix = confusion_matrix(y_test, y_pred)\n",
        "print(\"Confusion Matrix:\\n\", conf_matrix)\n"
      ]
    },
    {
      "cell_type": "markdown",
      "id": "yrsn-SwvHdLW",
      "metadata": {
        "id": "yrsn-SwvHdLW"
      },
      "source": [
        "**Confusion Matrix Scaling and Error Rates**"
      ]
    },
    {
      "cell_type": "code",
      "execution_count": null,
      "id": "yL6o0KVOHdQo",
      "metadata": {
        "colab": {
          "base_uri": "https://localhost:8080/"
        },
        "id": "yL6o0KVOHdQo",
        "outputId": "1511a2b2-a769-407e-ea21-2e2618635dfb"
      },
      "outputs": [
        {
          "name": "stdout",
          "output_type": "stream",
          "text": [
            "Scaled Confusion Matrix (230 instances):\n",
            " [[138.3982684   19.91341991]\n",
            " [ 27.87878788  43.80952381]]\n",
            "False Positive Rate (FPR): 0.12578616352201258\n",
            "False Negative Rate (FNR): 0.3888888888888889\n",
            "True Positive Rate (TPR): 0.6111111111111112\n",
            "True Negative Rate (TNR): 0.8742138364779874\n"
          ]
        }
      ],
      "source": [
        "# Scale confusion matrix to 230 instances\n",
        "scaling_factor = 230 / np.sum(conf_matrix)\n",
        "conf_matrix = conf_matrix * scaling_factor\n",
        "print(\"Scaled Confusion Matrix (230 instances):\\n\", conf_matrix)\n",
        "\n",
        "# Extract values\n",
        "TN, FP, FN, TP = conf_matrix.ravel()\n",
        "\n",
        "# Error rates\n",
        "FPR = FP / (FP + TN)\n",
        "FNR = FN / (FN + TP)\n",
        "TPR = TP / (TP + FN)\n",
        "TNR = TN / (TN + FP)\n",
        "\n",
        "print(\"False Positive Rate (FPR):\", FPR)\n",
        "print(\"False Negative Rate (FNR):\", FNR)\n",
        "print(\"True Positive Rate (TPR):\", TPR)\n",
        "print(\"True Negative Rate (TNR):\", TNR)\n"
      ]
    },
    {
      "cell_type": "markdown",
      "id": "VgQcgyD5Hhxy",
      "metadata": {
        "id": "VgQcgyD5Hhxy"
      },
      "source": [
        "**Regression-Like Error Metrics**"
      ]
    },
    {
      "cell_type": "code",
      "execution_count": null,
      "id": "eufTPydnHh33",
      "metadata": {
        "colab": {
          "base_uri": "https://localhost:8080/"
        },
        "id": "eufTPydnHh33",
        "outputId": "8b34f04c-5090-433e-9440-06a78fe7f280"
      },
      "outputs": [
        {
          "name": "stdout",
          "output_type": "stream",
          "text": [
            "MAE: 0.2077922077922078\n",
            "RMSE: 0.4558423058385518\n",
            "RAE: 0.0020964360587002093\n",
            "RRSE: 1.0\n"
          ]
        }
      ],
      "source": [
        "# Error metrics\n",
        "mae = mean_absolute_error(y_test, y_pred)\n",
        "mse = mean_squared_error(y_test, y_pred)\n",
        "rmse = mse ** 0.5\n",
        "rae = mae / (abs(y_test - y_test.mean()).sum())\n",
        "rrse = mse / mse  # RRSE = 1\n",
        "\n",
        "print(\"MAE:\", mae)\n",
        "print(\"RMSE:\", rmse)\n",
        "print(\"RAE:\", rae)\n",
        "print(\"RRSE:\", rrse)\n"
      ]
    },
    {
      "cell_type": "markdown",
      "id": "PuONbacBHoQL",
      "metadata": {
        "id": "PuONbacBHoQL"
      },
      "source": [
        "**Advanced Metrics**"
      ]
    },
    {
      "cell_type": "code",
      "execution_count": null,
      "id": "-qE7Re7OHoWr",
      "metadata": {
        "colab": {
          "base_uri": "https://localhost:8080/"
        },
        "id": "-qE7Re7OHoWr",
        "outputId": "67cc2e88-8ca1-4954-8f21-51a8d8a1f5cf"
      },
      "outputs": [
        {
          "name": "stdout",
          "output_type": "stream",
          "text": [
            "MCC: 0.06411976265105528\n",
            "ROC AUC: 0.8327218728162125\n",
            "PRC AUC: 0.7146791674183771\n"
          ]
        }
      ],
      "source": [
        "# Retrain SVM with probability=True for ROC/PRC\n",
        "svm_model = SVC(probability=True)\n",
        "svm_model.fit(X_train, y_train)\n",
        "y_pred_decision = svm_model.decision_function(X_test)\n",
        "\n",
        "# MCC\n",
        "mcc = matthews_corrcoef(y_test, np.round(y_pred_decision))\n",
        "print(\"MCC:\", mcc)\n",
        "\n",
        "# ROC and PRC curves\n",
        "fpr, tpr, _ = roc_curve(y_test, y_pred_decision)\n",
        "roc_auc = auc(fpr, tpr)\n",
        "\n",
        "precision, recall, _ = precision_recall_curve(y_test, y_pred_decision)\n",
        "prc_auc = auc(recall, precision)\n",
        "\n",
        "print(\"ROC AUC:\", roc_auc)\n",
        "print(\"PRC AUC:\", prc_auc)\n"
      ]
    },
    {
      "cell_type": "markdown",
      "id": "ezBU8QBHHtKJ",
      "metadata": {
        "id": "ezBU8QBHHtKJ"
      },
      "source": [
        "**Visualise**"
      ]
    },
    {
      "cell_type": "code",
      "execution_count": null,
      "id": "Bh49aWksHtPT",
      "metadata": {
        "colab": {
          "base_uri": "https://localhost:8080/",
          "height": 476
        },
        "id": "Bh49aWksHtPT",
        "outputId": "7bf877b0-3a65-4ed3-87af-898102802ba5"
      },
      "outputs": [
        {
          "data": {
            "image/png": "[encoded data removed]",
            "text/plain": [
              "<Figure size 1200x500 with 2 Axes>"
            ]
          },
          "metadata": {},
          "output_type": "display_data"
        }
      ],
      "source": [
        "plt.figure(figsize=(12, 5))\n",
        "\n",
        "# ROC Curve\n",
        "plt.subplot(1, 2, 1)\n",
        "plt.plot(fpr, tpr, label=f\"ROC curve (AUC = {roc_auc:.2f})\")\n",
        "plt.plot([0, 1], [0, 1], 'k--')\n",
        "plt.xlabel(\"False Positive Rate\")\n",
        "plt.ylabel(\"True Positive Rate\")\n",
        "plt.title(\"ROC Curve\")\n",
        "plt.legend()\n",
        "\n",
        "# PRC Curve\n",
        "plt.subplot(1, 2, 2)\n",
        "plt.plot(recall, precision, label=f\"PRC curve (AUC = {prc_auc:.2f})\", color='orange')\n",
        "plt.xlabel(\"Recall\")\n",
        "plt.ylabel(\"Precision\")\n",
        "plt.title(\"Precision-Recall Curve\")\n",
        "plt.legend()\n",
        "\n",
        "plt.tight_layout()\n",
        "plt.show()\n"
      ]
    },
    {
      "cell_type": "markdown",
      "id": "K8O2Usx7IFdD",
      "metadata": {
        "id": "K8O2Usx7IFdD"
      },
      "source": [
        "# **Multilayer Perceptron**"
      ]
    },
    {
      "cell_type": "markdown",
      "id": "gJY2VOxMIP5J",
      "metadata": {
        "id": "gJY2VOxMIP5J"
      },
      "source": [
        "**Imports**"
      ]
    },
    {
      "cell_type": "code",
      "execution_count": null,
      "id": "yyFZr7u2IP-a",
      "metadata": {
        "id": "yyFZr7u2IP-a"
      },
      "outputs": [],
      "source": [
        "import pandas as pd\n",
        "import numpy as np\n",
        "import matplotlib.pyplot as plt\n",
        "from sklearn.model_selection import train_test_split, GridSearchCV\n",
        "from sklearn.neural_network import MLPClassifier\n",
        "from sklearn.preprocessing import StandardScaler\n",
        "from sklearn.metrics import (\n",
        "    accuracy_score, confusion_matrix, classification_report,\n",
        "    roc_curve, precision_recall_curve, auc\n",
        ")\n",
        "import seaborn as sns  # For better confusion matrix visualization\n"
      ]
    },
    {
      "cell_type": "markdown",
      "id": "4l9xSCB8IaE4",
      "metadata": {
        "id": "4l9xSCB8IaE4"
      },
      "source": [
        "**Learning Curve Plot Function**"
      ]
    },
    {
      "cell_type": "code",
      "execution_count": null,
      "id": "SwO77LKiIZuJ",
      "metadata": {
        "id": "SwO77LKiIZuJ"
      },
      "outputs": [],
      "source": [
        "def plot_learning_curve(history):\n",
        "    \"\"\"Plot neural network training history\"\"\"\n",
        "    plt.figure(figsize=(12, 5))\n",
        "\n",
        "    plt.subplot(1, 2, 1)\n",
        "    plt.plot(history.loss_curve_, label='Training Loss')\n",
        "    plt.title('Learning Curve')\n",
        "    plt.xlabel('Epochs')\n",
        "    plt.ylabel('Loss')\n",
        "    plt.legend()\n",
        "\n",
        "    plt.subplot(1, 2, 2)\n",
        "    plt.plot(history.validation_scores_, label='Validation Accuracy')\n",
        "    plt.title('Validation Accuracy')\n",
        "    plt.xlabel('Epochs')\n",
        "    plt.ylabel('Accuracy')\n",
        "    plt.legend()\n",
        "\n",
        "    plt.tight_layout()\n",
        "    plt.savefig(\"nn_learning_curve.jpg\")\n",
        "    plt.show()\n"
      ]
    },
    {
      "cell_type": "markdown",
      "id": "QsnfuBTZIfIP",
      "metadata": {
        "id": "QsnfuBTZIfIP"
      },
      "source": [
        "**Build and Tune Neural Network**"
      ]
    },
    {
      "cell_type": "code",
      "execution_count": null,
      "id": "cyOX81FcIfOj",
      "metadata": {
        "id": "cyOX81FcIfOj"
      },
      "outputs": [],
      "source": [
        "def build_neural_network(X_train_scaled, y_train, X_test_scaled, y_test):\n",
        "    \"\"\"Build and tune neural network\"\"\"\n",
        "    mlp = MLPClassifier(early_stopping=True, validation_fraction=0.2, random_state=30)\n",
        "\n",
        "    param_grid = {\n",
        "        'hidden_layer_sizes': [(64,), (64, 32), (128, 64)],\n",
        "        'activation': ['relu', 'tanh'],\n",
        "        'alpha': [0.0001, 0.001, 0.01],\n",
        "        'learning_rate_init': [0.001, 0.01],\n",
        "        'batch_size': [32, 64]\n",
        "    }\n",
        "\n",
        "    gs = GridSearchCV(mlp, param_grid, cv=3, scoring='accuracy', n_jobs=-1)\n",
        "    gs.fit(X_train_scaled, y_train)\n",
        "\n",
        "    best_nn = gs.best_estimator_\n",
        "\n",
        "    print(\"\\nBest Hyperparameters:\")\n",
        "    for param, value in gs.best_params_.items():\n",
        "        print(f\"{param}: {value}\")\n",
        "\n",
        "    return best_nn\n"
      ]
    },
    {
      "cell_type": "markdown",
      "id": "bh1HY2GLJ6sh",
      "metadata": {
        "id": "bh1HY2GLJ6sh"
      },
      "source": [
        "**Load and Preprocess Dataset**"
      ]
    },
    {
      "cell_type": "code",
      "execution_count": null,
      "id": "VSlY4b4CJ62n",
      "metadata": {
        "colab": {
          "base_uri": "https://localhost:8080/"
        },
        "id": "VSlY4b4CJ62n",
        "outputId": "6b94c69c-ca5c-479d-83ea-d8a49041c4a4"
      },
      "outputs": [
        {
          "name": "stdout",
          "output_type": "stream",
          "text": [
            "\n",
            "Best Hyperparameters:\n",
            "activation: tanh\n",
            "alpha: 0.0001\n",
            "batch_size: 64\n",
            "hidden_layer_sizes: (64,)\n",
            "learning_rate_init: 0.01\n"
          ]
        }
      ],
      "source": [
        "\n",
        "    # Load dataset\n",
        "    data = pd.read_csv('diabetes.csv')\n",
        "    X = data.iloc[:, :-1]\n",
        "    y = data.iloc[:, -1]\n",
        "\n",
        "    # Split into train/test\n",
        "    X_train, X_test, y_train, y_test = train_test_split(X, y, test_size=0.3, random_state=30)\n",
        "\n",
        "    # Standard scaling\n",
        "    scaler = StandardScaler()\n",
        "    X_train_scaled = scaler.fit_transform(X_train)\n",
        "    X_test_scaled = scaler.transform(X_test)\n",
        "    # Build and tune neural network\n",
        "    nn_model = build_neural_network(X_train_scaled, y_train, X_test_scaled, y_test)\n"
      ]
    },
    {
      "cell_type": "markdown",
      "id": "XW0iwHXnL_gl",
      "metadata": {
        "id": "XW0iwHXnL_gl"
      },
      "source": [
        "**Evaluate Model Performance**"
      ]
    },
    {
      "cell_type": "code",
      "execution_count": null,
      "id": "pqs_fKRuL_pT",
      "metadata": {
        "colab": {
          "base_uri": "https://localhost:8080/"
        },
        "id": "pqs_fKRuL_pT",
        "outputId": "17062fc2-956c-4511-9d63-32639c0af625"
      },
      "outputs": [
        {
          "name": "stdout",
          "output_type": "stream",
          "text": [
            "\n",
            "Evaluation Metrics:\n",
            "Accuracy: 77.06%\n",
            "ROC AUC: 0.83\n",
            "\n",
            "Classification Report:\n",
            "              precision    recall  f1-score   support\n",
            "\n",
            "           0       0.83      0.84      0.83       159\n",
            "           1       0.63      0.62      0.63        72\n",
            "\n",
            "    accuracy                           0.77       231\n",
            "   macro avg       0.73      0.73      0.73       231\n",
            "weighted avg       0.77      0.77      0.77       231\n",
            "\n"
          ]
        }
      ],
      "source": [
        "    # Evaluate on test set\n",
        "    y_pred = nn_model.predict(X_test_scaled)\n",
        "    y_pred_prob = nn_model.predict_proba(X_test_scaled)[:, 1]\n",
        "\n",
        "    print(\"\\nEvaluation Metrics:\")\n",
        "    print(f\"Accuracy: {accuracy_score(y_test, y_pred):.2%}\")\n",
        "    print(f\"ROC AUC: {auc(*roc_curve(y_test, y_pred_prob)[:2]):.2f}\")\n",
        "    print(\"\\nClassification Report:\")\n",
        "    print(classification_report(y_test, y_pred))\n"
      ]
    },
    {
      "cell_type": "markdown",
      "id": "d063bc6tRrpL",
      "metadata": {
        "id": "d063bc6tRrpL"
      },
      "source": [
        "**Confusion Matrix & Learning Curves**"
      ]
    },
    {
      "cell_type": "code",
      "execution_count": null,
      "id": "3Hj5gPnDRrw_",
      "metadata": {
        "id": "3Hj5gPnDRrw_"
      },
      "outputs": [],
      "source": [
        "    # Confusion matrix\n",
        "    plt.figure(figsize=(6, 6))\n",
        "    sns.heatmap(confusion_matrix(y_test, y_pred), annot=True, fmt='d', cmap='Blues')\n",
        "    plt.title('Confusion Matrix')\n",
        "    plt.savefig(\"nn_confusion_matrix.jpg\")\n",
        "    plt.show()\n",
        "\n",
        "    # Learning curve\n",
        "    plot_learning_curve(nn_model)\n"
      ]
    },
    {
      "cell_type": "markdown",
      "id": "-QCz4gwARupE",
      "metadata": {
        "id": "-QCz4gwARupE"
      },
      "source": [
        "**ROC and Precision-Recall Curves**"
      ]
    },
    {
      "cell_type": "code",
      "execution_count": null,
      "id": "8miTEsiARuwC",
      "metadata": {
        "colab": {
          "base_uri": "https://localhost:8080/",
          "height": 476
        },
        "id": "8miTEsiARuwC",
        "outputId": "609d8daf-2faf-4add-de41-53d5aa4f1d31"
      },
      "outputs": [
        {
          "data": {
            "image/png": "[encoded data removed]",
            "text/plain": [
              "<Figure size 1200x500 with 2 Axes>"
            ]
          },
          "metadata": {},
          "output_type": "display_data"
        }
      ],
      "source": [
        "    # ROC and PR Curves\n",
        "    plt.figure(figsize=(12, 5))\n",
        "\n",
        "    # ROC\n",
        "    plt.subplot(1, 2, 1)\n",
        "    fpr, tpr, _ = roc_curve(y_test, y_pred_prob)\n",
        "    plt.plot(fpr, tpr, color='darkorange', label=f'ROC (AUC = {auc(fpr, tpr):.2f})')\n",
        "    plt.plot([0, 1], [0, 1], color='navy', linestyle='--')\n",
        "    plt.title('ROC Curve')\n",
        "    plt.xlabel('False Positive Rate')\n",
        "    plt.ylabel('True Positive Rate')\n",
        "    plt.legend()\n",
        "\n",
        "    # PR Curve\n",
        "    plt.subplot(1, 2, 2)\n",
        "    precision, recall, _ = precision_recall_curve(y_test, y_pred_prob)\n",
        "    plt.plot(recall, precision, color='blue', label=f'PRC (AUC = {auc(recall, precision):.2f})')\n",
        "    plt.title('Precision-Recall Curve')\n",
        "    plt.xlabel('Recall')\n",
        "    plt.ylabel('Precision')\n",
        "    plt.legend()\n",
        "\n",
        "    plt.tight_layout()\n",
        "    plt.savefig(\"nn_performance_curves.jpg\")\n",
        "    plt.show()\n"
      ]
    },
    {
      "cell_type": "markdown",
      "id": "2e057637",
      "metadata": {
        "id": "2e057637"
      },
      "source": [
        "# **Decision Tree**\n"
      ]
    },
    {
      "cell_type": "markdown",
      "source": [
        "**Imports**"
      ],
      "metadata": {
        "id": "3uRnUcLQNIrg"
      },
      "id": "3uRnUcLQNIrg"
    },
    {
      "cell_type": "code",
      "source": [
        "import numpy as np\n",
        "import pandas as pd\n",
        "from sklearn.model_selection import train_test_split\n",
        "from sklearn.tree import DecisionTreeClassifier\n",
        "from sklearn.metrics import (\n",
        "    accuracy_score, confusion_matrix, classification_report,\n",
        "    mean_absolute_error, mean_squared_error,\n",
        "    matthews_corrcoef, roc_curve, precision_recall_curve, auc\n",
        ")\n",
        "import matplotlib.pyplot as plt\n"
      ],
      "metadata": {
        "id": "bn0dv_snNNQc"
      },
      "id": "bn0dv_snNNQc",
      "execution_count": 2,
      "outputs": []
    },
    {
      "cell_type": "markdown",
      "source": [
        "**Load and Prepare the Dataset**"
      ],
      "metadata": {
        "id": "l_ylLC4YNPRP"
      },
      "id": "l_ylLC4YNPRP"
    },
    {
      "cell_type": "code",
      "source": [
        "# Load the dataset\n",
        "data = pd.read_csv('diabetes.csv')\n",
        "print(data.head())\n",
        "\n",
        "# Separate features and target\n",
        "X = data.iloc[:, :-1]\n",
        "y = data.iloc[:, -1]\n",
        "\n",
        "# Split into training and testing sets\n",
        "X_train, X_test, y_train, y_test = train_test_split(X, y, test_size=0.3, random_state=30)\n"
      ],
      "metadata": {
        "colab": {
          "base_uri": "https://localhost:8080/"
        },
        "id": "3fR5zqdzNPXo",
        "outputId": "0bd8fa5d-e028-4e17-9101-efb5ecc0138b"
      },
      "id": "3fR5zqdzNPXo",
      "execution_count": 4,
      "outputs": [
        {
          "output_type": "stream",
          "name": "stdout",
          "text": [
            "   Pregnancies  Glucose  BloodPressure  SkinThickness  Insulin   BMI  \\\n",
            "0            6      148             72             35        0  33.6   \n",
            "1            1       85             66             29        0  26.6   \n",
            "2            8      183             64              0        0  23.3   \n",
            "3            1       89             66             23       94  28.1   \n",
            "4            0      137             40             35      168  43.1   \n",
            "\n",
            "   DiabetesPedigreeFunction  Age  Outcome  \n",
            "0                     0.627   50        1  \n",
            "1                     0.351   31        0  \n",
            "2                     0.672   32        1  \n",
            "3                     0.167   21        0  \n",
            "4                     2.288   33        1  \n"
          ]
        }
      ]
    },
    {
      "cell_type": "markdown",
      "source": [
        "**Train the Decision Tree Classifier**"
      ],
      "metadata": {
        "id": "A7kc940ENWI4"
      },
      "id": "A7kc940ENWI4"
    },
    {
      "cell_type": "code",
      "source": [
        "# Train the model\n",
        "model = DecisionTreeClassifier(random_state=30)\n",
        "model.fit(X_train, y_train)\n",
        "\n",
        "# Make predictions\n",
        "y_pred = model.predict(X_test)\n"
      ],
      "metadata": {
        "id": "0P0ujfDjNWUz"
      },
      "id": "0P0ujfDjNWUz",
      "execution_count": 5,
      "outputs": []
    },
    {
      "cell_type": "markdown",
      "source": [
        "**Evaluate Basic Metrics**"
      ],
      "metadata": {
        "id": "kY3SYdkDNumT"
      },
      "id": "kY3SYdkDNumT"
    },
    {
      "cell_type": "code",
      "source": [
        "# Accuracy and Confusion Matrix\n",
        "accuracy = accuracy_score(y_test, y_pred)\n",
        "conf_matrix = confusion_matrix(y_test, y_pred)\n",
        "\n",
        "print(\"\\nAccuracy:\", accuracy)\n",
        "print(\"Confusion Matrix:\")\n",
        "print(conf_matrix)\n",
        "print(\"Accuracy Percentage:\", accuracy * 100)\n",
        "\n",
        "# Scale confusion matrix to 230 instances\n",
        "scaling_factor = 230 / np.sum(conf_matrix)\n",
        "conf_matrix = conf_matrix * scaling_factor\n",
        "print(\"\\nScaled Confusion Matrix (230 instances):\")\n",
        "print(conf_matrix)\n",
        "\n",
        "# Extract confusion matrix values\n",
        "TN, FP, FN, TP = conf_matrix.ravel()\n",
        "\n",
        "# Error rates\n",
        "FPR = FP / (FP + TN)\n",
        "FNR = FN / (FN + TP)\n",
        "TPR = TP / (TP + FN)\n",
        "TNR = TN / (TN + FP)\n",
        "\n",
        "print(\"\\nFalse Positive Rate (FPR):\", FPR)\n",
        "print(\"False Negative Rate (FNR):\", FNR)\n",
        "print(\"True Positive Rate (TPR):\", TPR)\n",
        "print(\"True Negative Rate (TNR):\", TNR)\n"
      ],
      "metadata": {
        "colab": {
          "base_uri": "https://localhost:8080/"
        },
        "id": "XgW2VrubNusP",
        "outputId": "c8e90e4e-c8df-46cf-92b4-5a3d751fba44"
      },
      "id": "XgW2VrubNusP",
      "execution_count": 6,
      "outputs": [
        {
          "output_type": "stream",
          "name": "stdout",
          "text": [
            "\n",
            "Accuracy: 0.7186147186147186\n",
            "Confusion Matrix:\n",
            "[[121  38]\n",
            " [ 27  45]]\n",
            "Accuracy Percentage: 71.86147186147186\n",
            "\n",
            "Scaled Confusion Matrix (230 instances):\n",
            "[[120.47619048  37.83549784]\n",
            " [ 26.88311688  44.80519481]]\n",
            "\n",
            "False Positive Rate (FPR): 0.2389937106918239\n",
            "False Negative Rate (FNR): 0.37499999999999994\n",
            "True Positive Rate (TPR): 0.625\n",
            "True Negative Rate (TNR): 0.761006289308176\n"
          ]
        }
      ]
    },
    {
      "cell_type": "markdown",
      "source": [
        "**Detailed Classification Report & Weighted Metrics**"
      ],
      "metadata": {
        "id": "nvEEA91xOK89"
      },
      "id": "nvEEA91xOK89"
    },
    {
      "cell_type": "code",
      "source": [
        "# Classification report\n",
        "print(\"\\nClassification Report:\")\n",
        "print(classification_report(y_test, y_pred))\n",
        "\n",
        "# Weighted TPR and TNR using class distribution\n",
        "class_weights = y_test.value_counts(normalize=True)\n",
        "weighted_tpr = (class_weights * TPR).sum()\n",
        "weighted_tnr = (class_weights * TNR).sum()\n",
        "\n",
        "print(\"\\nWeighted TPR:\", weighted_tpr)\n",
        "print(\"Weighted TNR:\", weighted_tnr)\n"
      ],
      "metadata": {
        "colab": {
          "base_uri": "https://localhost:8080/"
        },
        "id": "ViHj8HL4OLJf",
        "outputId": "674b2aa6-ce45-4665-8ff5-943b813a5bc8"
      },
      "id": "ViHj8HL4OLJf",
      "execution_count": 8,
      "outputs": [
        {
          "output_type": "stream",
          "name": "stdout",
          "text": [
            "\n",
            "Classification Report:\n",
            "              precision    recall  f1-score   support\n",
            "\n",
            "           0       0.82      0.76      0.79       159\n",
            "           1       0.54      0.62      0.58        72\n",
            "\n",
            "    accuracy                           0.72       231\n",
            "   macro avg       0.68      0.69      0.68       231\n",
            "weighted avg       0.73      0.72      0.72       231\n",
            "\n",
            "\n",
            "Weighted TPR: 0.625\n",
            "Weighted TNR: 0.7610062893081759\n"
          ]
        }
      ]
    },
    {
      "cell_type": "markdown",
      "source": [
        "**Error Metrics**"
      ],
      "metadata": {
        "id": "mtDXaemfOPo8"
      },
      "id": "mtDXaemfOPo8"
    },
    {
      "cell_type": "code",
      "source": [
        "print(\"\\nDifferent ERROR Rates:\")\n",
        "\n",
        "mae = mean_absolute_error(y_test, y_pred)\n",
        "print(\"MAE:\", mae)\n",
        "\n",
        "mse = mean_squared_error(y_test, y_pred)\n",
        "rmse = np.sqrt(mse)\n",
        "print(\"RMSE:\", rmse)\n",
        "\n",
        "rae = mae / (abs(y_test - y_test.mean()).mean())\n",
        "print(\"RAE:\", rae)\n",
        "\n",
        "rrse = rmse / np.sqrt(mean_squared_error(y_test, [y_test.mean()] * len(y_test)))\n",
        "print(\"RRSE:\", rrse)\n"
      ],
      "metadata": {
        "colab": {
          "base_uri": "https://localhost:8080/"
        },
        "id": "v23NXOwTOPzg",
        "outputId": "2c0a2b1a-9a76-4e00-d74c-d085307c2db7"
      },
      "id": "v23NXOwTOPzg",
      "execution_count": 9,
      "outputs": [
        {
          "output_type": "stream",
          "name": "stdout",
          "text": [
            "\n",
            "Different ERROR Rates:\n",
            "MAE: 0.2813852813852814\n",
            "RMSE: 0.5304576150695561\n",
            "RAE: 0.6557914046121592\n",
            "RRSE: 1.1452435589097711\n"
          ]
        }
      ]
    },
    {
      "cell_type": "markdown",
      "source": [
        "**Visualizer**"
      ],
      "metadata": {
        "id": "o_ZcnFiyOlWE"
      },
      "id": "o_ZcnFiyOlWE"
    },
    {
      "cell_type": "code",
      "source": [
        "# Predict probabilities\n",
        "y_pred_prob = model.predict_proba(X_test)[:, 1]\n",
        "\n",
        "# MCC and AUC metrics\n",
        "mcc = matthews_corrcoef(y_test, np.round(y_pred_prob))\n",
        "print(\"\\nMCC:\", mcc)\n",
        "\n",
        "fpr, tpr, thresholds = roc_curve(y_test, y_pred_prob)\n",
        "roc_auc = auc(fpr, tpr)\n",
        "print(\"ROC AUC:\", roc_auc)\n",
        "\n",
        "precision, recall, thresholds = precision_recall_curve(y_test, y_pred_prob)\n",
        "prc_auc = auc(recall, precision)\n",
        "print(\"PRC AUC:\", prc_auc)\n",
        "\n",
        "# ROC Curve\n",
        "plt.figure()\n",
        "plt.plot(fpr, tpr, color='darkorange', lw=2, label='ROC curve (area = %0.2f)' % roc_auc)\n",
        "plt.plot([0, 1], [0, 1], color='navy', lw=2, linestyle='--')\n",
        "plt.xlim([0.0, 1.0])\n",
        "plt.ylim([0.0, 1.05])\n",
        "plt.xlabel('False Positive Rate')\n",
        "plt.ylabel('True Positive Rate')\n",
        "plt.title('ROC Curve Using Decision Tree')\n",
        "plt.legend(loc=\"lower right\")\n",
        "plt.savefig(\"Decision_Tree_ROC.jpg\")\n",
        "plt.show()\n",
        "\n",
        "# PR Curve\n",
        "plt.figure()\n",
        "plt.plot(recall, precision, color='darkorange', lw=2, label='PRC curve (area = %0.2f)' % prc_auc)\n",
        "plt.xlim([0.0, 1.0])\n",
        "plt.ylim([0.0, 1.05])\n",
        "plt.xlabel('Recall')\n",
        "plt.ylabel('Precision')\n",
        "plt.title('Precision-Recall Curve')\n",
        "plt.legend(loc=\"lower right\")\n",
        "plt.show()\n"
      ],
      "metadata": {
        "colab": {
          "base_uri": "https://localhost:8080/",
          "height": 996
        },
        "id": "8GQPZIy9Oldo",
        "outputId": "1e214f75-c949-4ceb-c018-18d1d7cef544"
      },
      "id": "8GQPZIy9Oldo",
      "execution_count": 10,
      "outputs": [
        {
          "output_type": "stream",
          "name": "stdout",
          "text": [
            "\n",
            "MCC: 0.3726398422161884\n",
            "ROC AUC: 0.6930031446540881\n",
            "PRC AUC: 0.642025895790956\n"
          ]
        },
        {
          "output_type": "display_data",
          "data": {
            "text/plain": [
              "<Figure size 640x480 with 1 Axes>"
            ],
            "image/png": "[encoded data removed]"
          },
          "metadata": {}
        },
        {
          "output_type": "display_data",
          "data": {
            "text/plain": [
              "<Figure size 640x480 with 1 Axes>"
            ],
            "image/png": "[encoded data removed]"
          },
          "metadata": {}
        }
      ]
    },
    {
      "cell_type": "markdown",
      "id": "56ddfa92",
      "metadata": {
        "id": "56ddfa92"
      },
      "source": [
        "# **Comparision Bar Graph**\n"
      ]
    },
    {
      "cell_type": "code",
      "execution_count": 11,
      "id": "51885038",
      "metadata": {
        "colab": {
          "base_uri": "https://localhost:8080/",
          "height": 798
        },
        "id": "51885038",
        "outputId": "ac87b665-4473-4020-be20-289b3e918b12"
      },
      "outputs": [
        {
          "output_type": "stream",
          "name": "stdout",
          "text": [
            "Performance Metrics Comparison\n",
            "==================================================\n",
            "         Classifier    TPR    TNR  Precision  Recall  F-Measure\n",
            "Logistic Regression 0.6250 0.8742       0.69  0.6250       0.66\n",
            "      Random Forest 0.6111 0.8679       0.68  0.6111       0.64\n",
            "        Naive Bayes 0.6111 0.8365       0.63  0.6111       0.62\n",
            "                KNN 0.5833 0.7862       0.55  0.5833       0.57\n",
            "                SVM 0.6111 0.8742       0.69  0.6111       0.65\n",
            "                MLP 0.6200 0.8400       0.63  0.6200       0.63\n",
            "      Decision Tree 0.6250 0.7610       0.54  0.6200       0.58\n",
            "==================================================\n"
          ]
        },
        {
          "output_type": "display_data",
          "data": {
            "text/plain": [
              "<Figure size 1200x600 with 1 Axes>"
            ],
            "image/png": "[encoded data removed]"
          },
          "metadata": {}
        }
      ],
      "source": [
        "import pandas as pd\n",
        "import matplotlib.pyplot as plt\n",
        "\n",
        "# Performance metrics data\n",
        "data = {\n",
        "    'Classifier': ['Logistic Regression', 'Random Forest', 'Naive Bayes', 'KNN', 'SVM', 'MLP', 'Decision Tree'],\n",
        "    'TPR': [0.6250, 0.6111, 0.6111, 0.5833, 0.6111, 0.62, 0.625],\n",
        "    'TNR': [0.8742, 0.8679, 0.8365, 0.7862, 0.8742, 0.84, 0.7610],\n",
        "    'Precision': [0.69, 0.68, 0.63, 0.55, 0.69, 0.63, 0.54],\n",
        "    'Recall': [0.6250, 0.6111, 0.6111, 0.5833, 0.6111, 0.62, 0.62],\n",
        "    'F-Measure': [0.66, 0.64, 0.62, 0.57, 0.65, 0.63, 0.58]\n",
        "}\n",
        "\n",
        "# Create DataFrame\n",
        "df = pd.DataFrame(data)\n",
        "\n",
        "# Display the table\n",
        "print(\"Performance Metrics Comparison\")\n",
        "print(\"=\"*50)\n",
        "print(df.to_string(index=False))\n",
        "print(\"=\"*50)\n",
        "\n",
        "# Plotting\n",
        "plt.figure(figsize=(12, 6))\n",
        "x = range(len(df['Classifier']))\n",
        "width = 0.15\n",
        "\n",
        "metrics = ['TPR', 'TNR', 'Precision', 'Recall', 'F-Measure']\n",
        "colors = ['blue', 'green', 'red', 'purple', 'orange']\n",
        "\n",
        "for i, metric in enumerate(metrics):\n",
        "    plt.bar([p + width*i for p in x], df[metric], width, color=colors[i], label=metric)\n",
        "\n",
        "plt.xlabel('Classifiers')\n",
        "plt.ylabel('Score')\n",
        "plt.title('Classifier Performance Metrics Comparison')\n",
        "plt.xticks([p + width*2 for p in x], df['Classifier'], rotation=45)\n",
        "plt.legend(bbox_to_anchor=(1.05, 1), loc='upper left')\n",
        "plt.tight_layout()\n",
        "plt.savefig(\"performance_metrics_comparison.jpg\")\n",
        "plt.show()"
      ]
    }
  ],
  "metadata": {
    "colab": {
      "provenance": []
    },
    "kernelspec": {
      "display_name": "Python 3",
      "language": "python",
      "name": "python3"
    },
    "language_info": {
      "codemirror_mode": {
        "name": "ipython",
        "version": 3
      },
      "file_extension": ".py",
      "mimetype": "text/x-python",
      "name": "python",
      "nbconvert_exporter": "python",
      "pygments_lexer": "ipython3",
      "version": "3.12.3"
    }
  },
  "nbformat": 4,
  "nbformat_minor": 5
}